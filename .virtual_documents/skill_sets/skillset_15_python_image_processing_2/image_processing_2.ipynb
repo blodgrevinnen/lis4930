


import pandas as pd # data processing, CSV file I/0 (e.g., pd.read_csv)
import numpy as np # all things "numbers and python" (used here for its array functionality)
import matplotlib.pyplot as plt # display plots, or frames from video or images
import cv2 # image and video processing library (note: cv2 is module import name for opencv-python)





import os
print("Available images:")
for dirname, _, filenames in os.walk('img'):
    for filename in filenames:
        print(os.path.join(dirname, filename))





print ("Available videos:")
for dirname, _, filenames in os.walk('vids'):
    for filename in filenames:
        print(os.path.join(dirname, filename))





# See "Python Image Processing" tutorial that references the functions below.
image = cv2.imread('img/WaldoBeach.jpg')
image = cv2.cvtColor(image, cv2.COLOR_BGR2RGB)

# Note: subplot() function takes three arguments describing layout of figure
# https://www.w3schools.com/python/matplotlib_subplot.asp
plt.figure(figsize=(20, 20))
plt.subplot(1, 2, 1) # Translation: figure has 1 row, 2 columns, and this in the 1st plot!
plt.title("Original")
plt.imshow(image)

# Note: In image processing, a "kernel" (aka convolution matrix or mask) is a small matrix used for
# blurring, sharpening, embossing, edge detection, and other types of image manipulation.
# Some commonly used kernels: https://www.analyticsvidhya.com/blog/2021/08/sharpening-an-image-using-opencv-library-in-python/

# Define sharpening kernel (3x3 matrix) with values that emphasize edges.
# filter2D function applies this to image to perform sharpening operation.
kernel_sharpening = np.array([[-1, -1, -1],
                             [-1, 9, -1],
                             [-1, -1, -1]])

# convolve image with kernel to apply a filter on image
# Note: -1 gives output image depth same as input image
# https://www.askpython.com/python-modules/opencv-filter2d
# https://www.geeksforgeeks.org/python-opencv-filter2d-function/
sharpened = cv2.filter2D(image, -1, kernel_sharpening)

plt.subplot(1, 2, 2) # Translation: figure has 1 row, 2 columns, and this is the 2nd plot!
plt.title("Image Sharpening")
plt.imshow(sharpened)

plt.show()





# load image
image = cv2.imread("img/Origin_of_Species.jpg", 0)

plt.figure(figsize=(30, 30))
plt.subplot(3, 2, 1)
plt.title("Original")
plt.imshow(image)

# Values below 127 become 0 (i.e., black), everything above 127 becomes 255 (i.e., white)
# https://docs.opencv.org/4.x/d7/d4d/tutorial_py_thresholding.html
ret,thresh1 = cv2.threshold(image, 127, 255, cv2.THRESH_BINARY)

plt.subplot(3, 2, 2)
plt.title("Threshold Binary")
plt.imshow(thresh1)

# Note: Blurring images removes noise (and smooth images)
# https://www.tutorialkart.com/opencv/python/opencv-python-gaussian-image-smoothing/
image = cv2.GaussianBlur(image, (3, 3), 0)

# adaptive thresholding
# https://docs.opencv.org/4.x/d7/d4d/tutorial_py_thresholding.html
thresh = cv2.adaptiveThreshold(image, 255, cv2.ADAPTIVE_THRESH_MEAN_C, cv2.THRESH_BINARY, 3, 5)

plt.subplot(3, 2, 3)
plt.title("Adaptive Mean Thresholding")
plt.imshow(thresh)

# Otsu's thresholding
# https://docs.opencv.org/4.x/d7/d4d/tutorial_py_thresholding.html
_, th2 = cv2.threshold(image, 0, 255, cv2.THRESH_BINARY + cv2.THRESH_OTSU)

plt.subplot(3, 2, 4)
plt.title("Otsu's Thresholding")
plt.imshow(th2)

plt.subplot(3, 2, 5)
# Otsu's thresholding after Gaussian filtering
blur = cv2.GaussianBlur(image, (5,5), 0)
_, th3 = cv2.threshold(blur, 0, 255, cv2.THRESH_BINARY + cv2.THRESH_OTSU)
plt.title("Gaussian Otsu's Thresholding")
plt.imshow(th3)
plt.show()





image = cv2.imread('img/fruits.jpg')
image = cv2.cvtColor(image, cv2.COLOR_BGR2RGB)

# Solution to error: "Clipping input data to the valid range for imshow..."
# Cast to unsigned data type. Example, uint8 or uint16.
image = image.astype('uint8')

height, width,_ = image.shape

# Extract Sobel Edges
# reference: https://en.wikipedia.org/wiki/Sobel_operator
sobel_x = cv2.Sobel(image, cv2.CV_64F, 0, 1, ksize=5)
sobel_y = cv2.Sobel(image, cv2.CV_64F, 1, 0, ksize=5)

# same solution to clipping error as above
sobel_x = sobel_x.astype('uint8')
sobel_y = sobel_y.astype('uint8')

plt.figure(figsize=(20, 20))

plt.subplot(3, 2, 1)
plt.title("Original")
plt.imshow(image)

plt.subplot(3, 2, 2)
plt.title("Sobel X")
plt.imshow(sobel_x)

plt.subplot(3, 2, 3)
plt.title("Sobel Y")
plt.imshow(sobel_y)

# Note: bitwise, AND, OR, NOT, and XOR operations are very useful when extracting parts of an image.
# References:
# https://docs.opencv.org/3.4/d0/d86/tutorial_py_image_arithmetics.html
# https://pyimagesearch.com/2021/01/19/opencv-bitwise-and-or-xor-and-not/
sobel_OR = cv2.bitwise_or(sobel_x, sobel_y)

plt.subplot(3, 2, 4)
plt.title("sobel_OR")
plt.imshow(sobel_OR)

# Note: laplacian() function detects sudden intensity transitions in an image, and highlights edges.
# References:
# https://docs.opencv.org/3.4/d5/db5/tutorial_laplace_operator.html
# https://www.bogotobogo.com/python/OpenCV_Python/python_opencv3_Image_Gradient_Sobel_laplacian_Derivates_Edge_Detection.php
# https://www.sciencedirect.com/topics/engineering/laplacian-filter
laplacian = cv2.Laplacian(image, cv2.CV_64F)

# Same solution as above to error: "Clipping input data to the valid range for imshow..."
laplacian = laplacian.astype('uint8')

plt.subplot(3, 2, 5)
plt.title("Laplacian")
plt.imshow(laplacian)

# Canny Edge Detection: https://docs.opencv.org/4.x/da/d22/tutorial_py_canny.html
canny = cv2.Canny(image, 50, 120)

plt.subplot(3, 2, 6)
plt.title("Canny")
plt.imshow(canny)





img = cv2.imread('img/fruits.jpg')
img = cv2.cvtColor(image, cv2.COLOR_BGR2RGB)

# Calculate median pixel value
med_val = np.median(img)

# Lower hound is either 0 or 70% of median value, whichever is higher
lower = int(max(0, 0.7 * med_val))

# Upper bound is either 255 or 30% above median value, whichever is lower
upper = int(min(255, 1.3 * med_val))

# blur() function: Blurs an image using the normalized box filter.
# https://docs.opencv.org/4.x/d4/d86/group__imgproc__filter.html#ga8c4db9afe636703801b0b2e440fce37
blurred_img = cv2.blur(img,ksize=(5,5))

# Then, use Canny() to find edges
# Again, thresholds will differ depending upon each image (through trial and error)
edges = cv2.Canny(image=blurred_img, threshold1=lower, threshold2=upper+40)
plt.imshow(edges)





image = cv2.imread('img/scan.jpg')
image = cv2.cvtColor(image, cv2.COLOR_BGR2RGB)

plt.figure(figsize=(20, 20))

plt.subplot(1, 2, 1)
plt.title("Original")
plt.imshow(image)

# Find coordinates for 4 corners of original image
points_A = np.float32([[320,15], [700,215], [85,610], [530,700]])

# Calculate coordinates of 4 corners of desired output
# Ratio for A4 paper size 1: 1.41 (international standard paper size)
points_B = np.float32([[0,0], [420,0], [0,594], [420,594]])

# getPerspectiveTransform(): Changes an image viewpoint (Calculates a perspective transform from four pairs of corresponding points.)
# Here, using two sets of four points to compute Perspective Transformation matrix, M
M = cv2.getPerspectiveTransform(points_A, points_B)

# Once transformation matrix (M) is calculated, pass it to warpPerspective() function that applies the perspective transformation to an image.
# warpPerspective(): Applies a perspective transformation to an image.
warped = cv2.warpPerspective(image, M, (420,594))

plt.subplot(1, 2, 2)
plt.title("warpPerspective")
plt.imshow(warped)





image = cv2.imread('img/home.jpg')
image = cv2.cvtColor(image, cv2.COLOR_BGR2RGB)

plt.figure(figsize=(20, 20))

plt.subplot(2, 2, 1)
plt.title("Original")
plt.imshow(image)

# Create 3x3 kernel
kernel_3x3 = np.ones((3, 3), np.float32) / 9

# Use cv2.filter20() function to convolve kernel with image.
# See above:
# convolve image with kernel to apply a filter on image
# Note: -1 gives output image depth same as input image
blurred = cv2.filter2D(image, -1, kernel_3x3)

plt.subplot(2, 2, 2)
plt.title("3x3 Kernel Blurring")
plt.imshow(blurred)

# Experiment/Play: Create 7x7 kernel
kernel_7x7 = np.ones((7, 7), np.float32) / 49

blurred2 = cv2.filter2D(image, -1, kernel_7x7)

plt.subplot(2, 2, 3)
plt.title("7x7 Kernel Blurring")
plt.imshow(blurred2)





# Load image with 3 black squares
image = cv2.imread('img/hand.jpg')
image = cv2.cvtColor(image, cv2.COLOR_BGR2RGB)

plt.figure(figsize=(20, 20))

plt.subplot(2, 2, 1)
plt.title("Original")
plt.imshow(image)

# Grayscale
gray = cv2.cvtColor(image, cv2.COLOR_BGR2GRAY)

# Find edges
edged = cv2.Canny(gray, 30, 200)

plt.subplot(2, 2, 2)
plt.title("Canny Edges")
plt.imshow(edged)

# Find Contours
# findContours(): Finds contours in binary image.
contours, hierarchy = cv2.findContours(edged, cv2.RETR_EXTERNAL, cv2.CHAIN_APPROX_NONE)

plt.subplot(2, 2, 3)
plt.title("Canny Edges After Contouring")
plt.imshow(edged)

print("Number of Contours found = " + str(len(contours)))

# Draw all contours (use -1 as 3rd parameter to draw all)
# drawContours(): Draws contours outlines or filled contours.
cv2.drawContours(image, contours, -1, (0,255,0), 3)

plt.subplot(2, 2, 4)
plt.title("Contours")
plt.imshow(image)





# Load image and copy
image = cv2.imread('img/house.jpg')
image = cv2.cvtColor(image, cv2.COLOR_BGR2RGB)

plt.figure(figsize=(20, 20))

plt.subplot(2, 2, 1)
plt.title("Original")
plt.imshow(image)

orig_image = image.copy()

# Grayscale and binarize
gray = cv2.cvtColor(image, cv2.COLOR_BGR2GRAY)

ret, thresh = cv2.threshold(gray, 127, 255, cv2.THRESH_BINARY_INV)

# Find contours
contours, hierarchy = cv2.findContours(thresh.copy(), cv2.RETR_LIST, cv2.CHAIN_APPROX_NONE)

# Iterate through each contour and compute bounding rectangle
for c in contours:
    x, y, w, h = cv2.boundingRect(c)
    cv2.rectangle(orig_image,(x,y),(x+w,y+h),(0,0,255),2)
    plt.subplot(2, 2, 2)
    plt.title("Bounding Rectangle")
    plt.imshow(orig_image)

# Iterate through each contour and compute approx perimeter
for c in contours:
    # Calculate accuracy as a percent of contour perimeter
    accuracy = 0.03 * cv2.arcLength(c, True)
    approx = cv2.approxPolyDP(c, accuracy, True)
    cv2.drawContours(image, [approx], 0, (0, 255, 0), 2)

    plt.subplot(2, 2, 3)
    plt.title("Approx Poly DP")
    plt.imshow(image)

plt.show()

# Convex Hull

image = cv2.imread('img/hand.jpg')
gray = cv2.cvtColor(image, cv2.COLOR_BGR2GRAY)

plt.figure(figsize=(20, 20))

plt.subplot(1, 2, 1)
plt.title("Original Image")
plt.imshow(image)

# Threshold image
ret, thresh = cv2.threshold(gray, 176, 255, 0)

# Find contours
contours, hierarcy = cv2.findContours(thresh.copy(), cv2.RETR_LIST, cv2.CHAIN_APPROX_NONE)

# Sort Contours by area then, remove largest frame contour
n = len(contours) - 1
contours = sorted(contours, key=cv2.contourArea, reverse=False)[:n]

# Iterate through contours and draw convex hull
for c in contours:
    hull = cv2.convexHull(c)
    cv2.drawContours(image, [hull], 0, (0, 255, 0), 2)

    plt.subplot(1, 2, 2)
    plt.title("Convex Hull")
    plt.imshow(image)





# Load image then grayscale
image = cv2.imread('img/chessboard.png')
image = cv2.cvtColor(image, cv2.COLOR_BGR2RGB)

plt.figure(figsize=(10, 10))

gray = cv2.cvtColor(image, cv2.COLOR_BGR2GRAY)

# cornerHarris() function: requires grayscale and array datatype to be float32.
gray = np.float32(gray)

harris_corners = cv2.cornerHarris(gray, 3, 3, 0.05)

# dilate() function: enlrages/enhances corner points
kernel = np.ones((7,7),np.uint8)
harris_corners = cv2.dilate(harris_corners, kernel, iterations = 10)

# Threshold for optimal values--varies depending upon image.
image[harris_corners > 0.025 * harris_corners.max() ] = [255, 127, 127]

plt.subplot(1, 1, 1)
plt.title("Harris Corners")
plt.imshow(image)





# Background Subtraction Methods:
# technique for generating foreground mask

# Create variable with value 'MOG2'
algo = 'MOG2'

# Depending upon image analysis, use one of the two image background subtraction algorithms
if algo == 'MOG2':
    backSub = cv2.createBackgroundSubtractorMOG2()
else:
    backSub = cv2.createBackgroundSubtractorKNN()

plt.figure(figsize=(20, 20))

frame = cv2.imread('img/Background_Subtraction_Tutorial_frame.png')
fgMask = backSub.apply(frame)

plt.subplot(2, 2, 1)
plt.title("Frame")
plt.imshow(cv2.cvtColor(frame, cv2.COLOR_BGR2RGB))

plt.subplot(2, 2, 2)
plt.title("FG Mask")
plt.imshow(cv2.cvtColor(fgMask, cv2.COLOR_BGR2RGB))

frame = cv2.imread('img/Background_Subtraction_Tutorial_frame_1.png')
fgMask = backSub.apply(frame)

plt.subplot(2, 2, 3)
plt.title("Frame")
plt.imshow(cv2.cvtColor(frame, cv2.COLOR_BGR2RGB))

plt.subplot(2, 2, 4)
plt.title("FG Mask")
plt.imshow(cv2.cvtColor(fgMask, cv2.COLOR_BGR2RGB))





image = cv2.imread('img/Origin_of_Species.jpg')
image = cv2.cvtColor(image, cv2.COLOR_BGR2RGB)

plt.figure(figsize=(20, 20))

plt.subplot(2, 2, 1)
plt.title("Original")
plt.imshow(image)

# Make image 75% of original size
image_scaled = cv2.resize(image, None, fx=0.75, fy=0.75)

plt.subplot(2, 2, 2)
plt.title("Scaling - Linear Interpolation")
plt.imshow(image_scaled)

# Now, double image size
img_scaled = cv2.resize(image, None, fx=2, fy=2, interpolation = cv2.INTER_CUBIC)

plt.subplot(2, 2, 3)
plt.title("Scaling - Cubic Interpolation")
plt.imshow(img_scaled)

# Skew image size by setting specific width, length dimensions
img_scaled = cv2.resize(image, (900, 400), interpolation = cv2.INTER_AREA)

plt.subplot(2, 2, 4)
plt.title("Scaling - Skewed Size")
plt.imshow(img_scaled)



