{
 "cells": [
  {
   "cell_type": "markdown",
   "id": "6ed12219-a299-4795-bf6e-1961d2b28bf7",
   "metadata": {},
   "source": [
    "# Assignment 3\n",
    "**Developer:** Tanner Morlan\n",
    "\n",
    "**Course:** LIS4930\n",
    "\n",
    "**Program Requirements:**\n",
    "\n",
    "1. Get\n",
    "2. Clean\n",
    "3. Prepare\n",
    "4. Analzye\n",
    "5. Display/Visualize\n",
    "\n",
    "**Note:** In each of the following examples, BE SURE to research the functions/properties/options indicated."
   ]
  },
  {
   "cell_type": "code",
   "execution_count": null,
   "id": "52ac7b33-824c-4bde-a757-b638dec66aa7",
   "metadata": {},
   "outputs": [],
   "source": [
    "#1. import pandas\n",
    "import pandas as pd"
   ]
  },
  {
   "cell_type": "markdown",
   "id": "c29d3ebc-ff64-4737-a9fe-3df536a55039",
   "metadata": {},
   "source": [
    "## Get data - read cleaned pickle file"
   ]
  },
  {
   "cell_type": "code",
   "execution_count": null,
   "id": "96ff85f6-b70f-4360-bdf4-ccf6d250068b",
   "metadata": {},
   "outputs": [],
   "source": [
    "# 2. read cleaned pickle file from Assignment 2 into \"mortality_data\" variable\n",
    "mortality_data = pd.read_pickle(\"C:/repositories/lis4930/a2/a2_payroll/mortality_cleaned.pkl\")"
   ]
  },
  {
   "cell_type": "markdown",
   "id": "34820198-b955-476a-8f5e-889bb9e78ed6",
   "metadata": {},
   "source": [
    "## Examine cleaned data"
   ]
  },
  {
   "cell_type": "code",
   "execution_count": null,
   "id": "8c27d9bf-57fe-4ed7-9e75-96ed31f6f4bf",
   "metadata": {},
   "outputs": [],
   "source": [
    "# 3. display first and last 5 rows with one command!\n",
    "# Note: the following way *only* works in Jupyter Notebooks\n",
    "# mortality_data\n",
    "print(mortality_data)"
   ]
  },
  {
   "cell_type": "markdown",
   "id": "a6501ed0-5416-420e-a515-e3a2e69ad52c",
   "metadata": {},
   "source": [
    "## Display DataFrame attributes"
   ]
  },
  {
   "cell_type": "code",
   "execution_count": null,
   "id": "758b2cf5-7f82-4168-849e-fa694dabae0b",
   "metadata": {},
   "outputs": [],
   "source": [
    "# 4. Use Pandas DataFrame info() Method:\n",
    "# Prints:\n",
    "# 1. number of columns\n",
    "# 2. column labels\n",
    "# 3. column data types\n",
    "# 4. memory usage\n",
    "# 5. range index\n",
    "# 6. number of cells in each column (non-null values).\n",
    "mortality_data.info()"
   ]
  },
  {
   "cell_type": "code",
   "execution_count": null,
   "id": "9b2ed198-e7e1-41c5-9f26-02a65520b48f",
   "metadata": {},
   "outputs": [],
   "source": [
    "# 5. print the following DataFrame attributes: index, columns, size, and shape\n",
    "print(\"Index:  \", mortality_data.index)\n",
    "print(\"Columns:\", mortality_data.columns)\n",
    "print(\"Size:   \", mortality_data.size)\n",
    "print(\"Shape:  \", mortality_data.shape)"
   ]
  },
  {
   "cell_type": "markdown",
   "id": "58bb20c3-2af5-4643-a527-379dedcc35ae",
   "metadata": {},
   "source": [
    "## Prepare data\n",
    "\n",
    "### Sort data"
   ]
  },
  {
   "cell_type": "code",
   "execution_count": null,
   "id": "a39f9903-53c0-4fd3-a268-05c66bcf19c1",
   "metadata": {},
   "outputs": [],
   "source": [
    "# 6. display first 3 records sorted by DeathRate in ascending order\n",
    "# Note: sort_values() function sorts in ascending order by default!\n",
    "print(mortality_data.sort_values('DeathRate').head(3))"
   ]
  },
  {
   "cell_type": "code",
   "execution_count": null,
   "id": "52b2e856-ad03-4e1a-bea5-d01e4ff97788",
   "metadata": {},
   "outputs": [],
   "source": [
    "# 7. display first 3 records sorted by DeathRate in descending order\n",
    "print(mortality_data.sort_values('DeathRate', ascending=False).head(3))"
   ]
  },
  {
   "cell_type": "code",
   "execution_count": null,
   "id": "6ebca1cf-6ec8-4be1-b36a-44e5246de302",
   "metadata": {},
   "outputs": [],
   "source": [
    "# 8. display first 3 records sorted by Year and DeathRate, *both* in ascending order\n",
    "# Note: major/minor order (left to right). Here, first Year, then DeathRate.\n",
    "print(mortality_data.sort_values(['Year', 'DeathRate']).head(3))"
   ]
  },
  {
   "cell_type": "code",
   "execution_count": null,
   "id": "8f6f980d-f84c-44be-aa1a-d4b751e0b7b2",
   "metadata": {},
   "outputs": [],
   "source": [
    "# 9. display first 3 records sorted by DeathRate and Year, *both* in ascending order\n",
    "# Note: difference in major/minor sort order\n",
    "print(mortality_data.sort_values(['DeathRate', 'Year']).head(3))"
   ]
  },
  {
   "cell_type": "code",
   "execution_count": null,
   "id": "3c03a04a-1ea8-4bb8-8c64-3e5cff5a8424",
   "metadata": {},
   "outputs": [],
   "source": [
    "# 10. display first 5 records sorted (first) by Year (ascending), then DeathRate (descending)\n",
    "print(mortality_data.sort_values(['Year', 'DeathRate'],\n",
    "                                 ascending=[True,False]).head())"
   ]
  },
  {
   "cell_type": "code",
   "execution_count": null,
   "id": "23db3c53-4c4a-4505-85b2-44d141cd5a21",
   "metadata": {},
   "outputs": [],
   "source": [
    "# 11. display first 5 records sorted (first) by DeathRate (descending), then Year (ascending)\n",
    "print(mortality_data.sort_values(['DeathRate', 'Year'],\n",
    "                                 ascending=[False,True]).head())"
   ]
  },
  {
   "cell_type": "markdown",
   "id": "8ced7f63-d7fd-4274-ad20-b36cf323b265",
   "metadata": {},
   "source": [
    "## Preparing data - apply statistical functions"
   ]
  },
  {
   "cell_type": "code",
   "execution_count": null,
   "id": "7dcd876b-6622-4b33-ad3b-662f728ebe4e",
   "metadata": {},
   "outputs": [],
   "source": [
    "# 12. display DeathRate mean\n",
    "print(mortality_data.DeathRate.mean())"
   ]
  },
  {
   "cell_type": "code",
   "execution_count": null,
   "id": "b17e350c-c672-4447-8ed4-a7ec1215b49e",
   "metadata": {},
   "outputs": [],
   "source": [
    "# 13. display concatenated string and numeric output\n",
    "print(\"DeathRate mean: \" + str(mortality_data.DeathRate.mean()))\n",
    "# or...\n",
    "# print(\"DeathRate mean: \", str(mortality_data.DeathRate.mean()))"
   ]
  },
  {
   "cell_type": "code",
   "execution_count": null,
   "id": "0774657f-b786-4566-9035-207c498d8170",
   "metadata": {},
   "outputs": [],
   "source": [
    "# 14. Same as above, though formatted to two decimal places\n",
    "print(\"DeathRate mean: \"\n",
    "      + str(format(mortality_data.DeathRate.mean(), \".2f\")))"
   ]
  },
  {
   "cell_type": "code",
   "execution_count": null,
   "id": "cf034f34-6542-4440-8b24-afccb5d39cca",
   "metadata": {},
   "outputs": [],
   "source": [
    "# 15. display max AgeGroup and DeathRate values (two columns)\n",
    "# Note: AgeGroup sorted by *ASCII* values (5>1)--that is, why it is important to zero-fill, when necessary (see below)!\n",
    "print(mortality_data[['AgeGroup','DeathRate']].max())"
   ]
  },
  {
   "cell_type": "code",
   "execution_count": null,
   "id": "42185d23-d907-41ab-a0a1-0a1c0965f680",
   "metadata": {},
   "outputs": [],
   "source": [
    "# 16. display total numbers (all columns, excluding null values):\n",
    "print(mortality_data.count())"
   ]
  },
  {
   "cell_type": "code",
   "execution_count": null,
   "id": "de70184c-49fa-4aee-9059-d8f1dec596ba",
   "metadata": {},
   "outputs": [],
   "source": [
    "# 17. using pandas quantile() function, display 50% value of Year column, verify using median() function\n",
    "# https://pandas.pydata.org/docs/reference/api/pandas.DataFrame.quantile.html\n",
    "print(mortality_data[['Year']].quantile([.5]))\n",
    "print(mortality_data[['Year']].median())"
   ]
  },
  {
   "cell_type": "code",
   "execution_count": null,
   "id": "dbba2f7e-8b45-440a-a81e-72d345156bb7",
   "metadata": {},
   "outputs": [],
   "source": [
    "# 18. Same as above, though, display 50% value of *both* Year *and* DeathRate columns, verify using median() function\n",
    "print(mortality_data[['Year','DeathRate']].quantile([.5]))\n",
    "print(mortality_data[['Year','DeathRate']].median())"
   ]
  },
  {
   "cell_type": "code",
   "execution_count": null,
   "id": "6e4a672c-fbf3-48ec-a95a-325377f52d64",
   "metadata": {},
   "outputs": [],
   "source": [
    "# 19. Same as above, though, display 10% value of *both* Year *and* DeathRate columns, then 90% value of each, using *one* statement\n",
    "# quantile values (Example: 10% and 90%):\n",
    "# 10%: year = 1911.5, and 10% of death rates less than 21.50.\n",
    "# 90%: year = 2006.5, and 90% of death rates less than 430.85.\n",
    "print(mortality_data.quantile([.1,.9], numeric_only=True))\n",
    "\n",
    "# Note: The defualt value of numeric_only in DataFrame.quantitle is deprecated.\n",
    "# In a future version, it will default to False.\n",
    "# Select only valid columns or specify the value of numeric_only to silence this warning."
   ]
  },
  {
   "cell_type": "code",
   "execution_count": null,
   "id": "0158bbcf-7b70-414b-83f1-fb935985d763",
   "metadata": {},
   "outputs": [],
   "source": [
    "# 20. display cumulative sum of DeathRate values (i.e., each row added to previous row), use cumsum() function\n",
    "print(mortality_data['DeathRate'].cumsum())"
   ]
  },
  {
   "cell_type": "code",
   "execution_count": null,
   "id": "42e445b8-3a2a-49d7-b340-aec60f7e348e",
   "metadata": {},
   "outputs": [],
   "source": [
    "# 21. verify cumsum() function by displaying first 5 records fo DeathRate col\n",
    "print(mortality_data['DeathRate'].head(5))"
   ]
  },
  {
   "cell_type": "markdown",
   "id": "110d0965-fe8b-4899-93f4-3c0302642aab",
   "metadata": {},
   "source": [
    "## Preparing data - column arithmetic"
   ]
  },
  {
   "cell_type": "code",
   "execution_count": null,
   "id": "36d0b35e-221b-4a3e-bae6-d76e02a4266d",
   "metadata": {},
   "outputs": [],
   "source": [
    "# 22. create and display two new columns (i.e., 'Mean' and 'MeanCentered') in DataFrame using column arithmetic\n",
    "# 'Mean Centered' displays how far from the mean each value is, a constant is subtracted (the mean) from every value of a particular variable--here DeathRate.\n",
    "# 'centering' refers to the process of subtracting the mean from a variable (usually a predictor)\n",
    "# 'centering' is important when interpreting group effects of interest\n",
    "# 'centering' redefines '0 point' for 'predictor' to be whatever value was subtracted (here, the mean). It shifts the scale over, but retains the units.\n",
    "# Note: Explicit line joining using backslash (\\).\n",
    "# https://docs.python.org/3/reference/lexical_analysis.html#line-structure\n",
    "mortality_data['Mean'] = mortality_data.DeathRate.mean()\n",
    "mortality_data['MeanCentered'] = \\\n",
    "    mortality_data.DeathRate - mortality_data.DeathRate.mean()"
   ]
  },
  {
   "cell_type": "code",
   "execution_count": null,
   "id": "33bd54ea-8318-45a7-a13a-3e22ad54be88",
   "metadata": {},
   "outputs": [],
   "source": [
    "# 23. print mortality_data DF\n",
    "# Note: new cols in mortaltiy_data DataFrame\n",
    "print(mortality_data)"
   ]
  },
  {
   "cell_type": "markdown",
   "id": "d3ca5c39-c899-4dbc-81fe-313ea8bc28ad",
   "metadata": {},
   "source": [
    "## Preparing data - modify string data in column"
   ]
  },
  {
   "cell_type": "code",
   "execution_count": null,
   "id": "1e16193c-b764-434a-a8a3-992bac0a166c",
   "metadata": {},
   "outputs": [],
   "source": [
    "# 24. modify col names, so that col names are treated 'equally,' that is, when being sorted (here, using dictionary)\n",
    "# inplace set to true in order to replace values in DataFrame\n",
    "mortality_data.AgeGroup.replace(\n",
    "    {'1-4 Years':'01-04 Years','5-9 Years':'05-09 Years'},\n",
    "    inplace=True)"
   ]
  },
  {
   "cell_type": "markdown",
   "id": "bed982ce-fee0-4f7e-9cc4-4c6dfcf3f7e1",
   "metadata": {},
   "source": [
    "## Save prepped DataFrame to pickle file, then read"
   ]
  },
  {
   "cell_type": "code",
   "execution_count": null,
   "id": "00259bc0-40b2-4013-839b-bbdcaa1d4437",
   "metadata": {},
   "outputs": [],
   "source": [
    "# 25. save prepped DataFrame to pickle file\n",
    "mortality_data.to_pickle('mortality_prepped.pkl')"
   ]
  },
  {
   "cell_type": "code",
   "execution_count": null,
   "id": "100a37d8-68f0-4415-8eb1-37fc3b6282c3",
   "metadata": {},
   "outputs": [],
   "source": [
    "# 26. Read prepped DataFrame from pickle file, and print first 5 records\n",
    "mortality_data = pd.read_pickle('mortality_prepped.pkl')\n",
    "mortality_data.head()"
   ]
  },
  {
   "cell_type": "markdown",
   "id": "0ea90422-93c7-498d-82ed-126e604104ae",
   "metadata": {},
   "source": [
    "## Shape data - using index (sometimes, makes plotting easier!)\n",
    "\n",
    "### Set and use an index"
   ]
  },
  {
   "cell_type": "code",
   "execution_count": null,
   "id": "d4c4ad26-d09f-4079-965a-6f90c2296f70",
   "metadata": {},
   "outputs": [],
   "source": [
    "# 27. display first 2 records (note current indexes)\n",
    "mortality_data.head(2)"
   ]
  },
  {
   "cell_type": "code",
   "execution_count": null,
   "id": "97df8e7a-f00c-41fb-9652-4f85d4571b99",
   "metadata": {},
   "outputs": [],
   "source": [
    "# 28. index 'year' col, then display first two records (note new indexes)\n",
    "# ***Note:*** indexed columns *cannot* be used as parameters in other methods/functions!\n",
    "mortality_data = mortality_data.set_index('Year')\n",
    "mortality_data.head(2)"
   ]
  },
  {
   "cell_type": "code",
   "execution_count": null,
   "id": "43624c9e-8a56-4599-8bd5-0b11557f0dc5",
   "metadata": {},
   "outputs": [],
   "source": [
    "# 29. reset original index, then dispay first two records (note original indexes)\n",
    "# inplace set to true to in order to replace values in DataFrame\n",
    "mortality_data.reset_index(inplace=True)\n",
    "mortality_data.head(2)"
   ]
  },
  {
   "cell_type": "code",
   "execution_count": null,
   "id": "5e9e126d-96f0-4b98-9de9-c182f961d603",
   "metadata": {},
   "outputs": [],
   "source": [
    "# 30. create multi-index, check validity (i.e., no duplicates), then display first two records (note new indexes)\n",
    "# set multi-index to 'Year' and 'AgeGroup'\n",
    "mortality_data = mortality_data.set_index(\n",
    "    ['Year', 'AgeGroup'], verify_integrity=True)\n",
    "mortality_data.head(2)"
   ]
  },
  {
   "cell_type": "code",
   "execution_count": null,
   "id": "c2c25507-d284-4893-960a-bda899bd0422",
   "metadata": {},
   "outputs": [],
   "source": [
    "# 31. reset original index (using inplace), then display first two records (note new indexes)\n",
    "mortality_data.reset_index(inplace=True)\n",
    "mortality_data.head(2)"
   ]
  },
  {
   "cell_type": "markdown",
   "id": "b74f411c-8a3d-4e8c-a999-7d27f08a8ace",
   "metadata": {},
   "source": [
    "## Shape data - using pivot (wide data)\n",
    "- Similar to spreadsheet\n",
    "- Each observation defined by both\n",
    "  1. value at cell in table, and\n",
    "  2. coordinates of cell with respect to row and column indices.\n",
    "- Note: **Cannot** access variables in dataset by name\n",
    "- https://seaborn.pydata.org/tutorial/data_structure.html#long-form-vs-wide-form-data\n",
    "\n",
    "## Pandas pivot() function:\n",
    "https://pandas.pydata.org/docs/user_guide/reshaping.html#reshaping-pivot <br />\n",
    "\n",
    "https://pandas.pydata.org/docs/reference/api/pandas.DataFrame.pivot.html <br />\n",
    "\n",
    "**Parameters:**\n",
    "- *index*: Column to use to make new DataFrame's index. If none, uses existing index.\n",
    "- *columns*: Column to use to make new DataFrame's columns\n",
    "- *values*: Column(s) to use for populating new DataFrame's valeus. If not specified, all remaining columns used.\n",
    "- Returns: reshaped Dataframe\n",
    "- Exception: ValueError raised if there are any duplicate indexes (cannot reshape if index/column pair is not unique!)"
   ]
  },
  {
   "cell_type": "code",
   "execution_count": null,
   "id": "82f483be-f652-4ff2-a94b-ca298b1ad778",
   "metadata": {},
   "outputs": [],
   "source": [
    "# 32. pivot the following DataFrame: index='Year', columns='AgeGroup'\n",
    "# index: 'Year'\n",
    "# column to use to make new frame's columns: 'AgeGroup'\n",
    "# values: all remaining columns to populate new DataFrame's values\n",
    "# Note: if no 'values' par, uses *all* remaning cols!\n",
    "# assign resulting DataFrame to 'mortality_wide' variable, then display first 3 records\n",
    "mortality_wide = mortality_data.pivot(index=\"Year\",columns=\"AgeGroup\")\n",
    "mortality_wide.head(3)"
   ]
  },
  {
   "cell_type": "code",
   "execution_count": null,
   "id": "3b70b280-d134-44c1-95a7-3c35d9623a95",
   "metadata": {},
   "outputs": [],
   "source": [
    "# 33. pivot the following DataFrame:\n",
    "# index: 'Year'\n",
    "# column to use to make new frame's columns: 'AgeGroup'\n",
    "# values: 'DeathRate'\n",
    "# assign resulting DataFrame to 'mortality_wide' variable, then display first 3 records\n",
    "mortality_wide = mortality_data.pivot(index=\"Year\", columns=\"AgeGroup\", values=\"DeathRate\")\n",
    "mortality_wide.head(3)"
   ]
  },
  {
   "cell_type": "code",
   "execution_count": null,
   "id": "a824342d-349e-4d54-a2c0-e0227210701c",
   "metadata": {},
   "outputs": [],
   "source": [
    "# 34. save wide DataFrame to Excel file ('mortality_wide.xlsx')\n",
    "# Note: *Be careful* saving wide DataFrame to Excel file changes index--must change back (see below)!\n",
    "mortality_wide.to_excel('mortality_wide.xlsx')"
   ]
  },
  {
   "cell_type": "code",
   "execution_count": null,
   "id": "60037ef0-4e56-4570-b306-3138e7ba74c3",
   "metadata": {},
   "outputs": [],
   "source": [
    "# 35. read saved Excel file and assign to 'mortality_wide' variable, then display first 4 records\n",
    "mortality_wide = pd.read_excel('mortality_wide.xlsx')\n",
    "print(mortality_wide.head(4))"
   ]
  },
  {
   "cell_type": "code",
   "execution_count": null,
   "id": "cdcf815b-1d59-424e-8a3f-096731d8027e",
   "metadata": {},
   "outputs": [],
   "source": [
    "# 36. save wide DataFrame to pickle file ('mortality_wide.pkl')\n",
    "mortality_wide.to_pickle('mortality_wide.pkl')"
   ]
  },
  {
   "cell_type": "code",
   "execution_count": null,
   "id": "b4815b0c-2e26-40fb-98c5-8e87a13deb47",
   "metadata": {},
   "outputs": [],
   "source": [
    "# 37. read saved pickle file and assign to 'mortality_wide' variable, then display first 5 records\n",
    "mortality_wide = pd.read_pickle('mortality_wide.pkl')\n",
    "mortality_wide.head()"
   ]
  },
  {
   "cell_type": "markdown",
   "id": "8d94ee29-d158-4e5d-9f44-f60577ea5257",
   "metadata": {},
   "source": [
    "## Shape data - using melt (long data)\n",
    "- Each variable is a column\n",
    "- Each observation is a row\n",
    "- can access variables in dataset by name\n",
    "- https://seaborn.pydata.org/tutorial/data_structure.html#long-form-vs-wide-form-data\n",
    "\n",
    "## Pandas melt() function:\n",
    "https://pandas.pydata.org/docs/user_guide/reshaping.html#reshaping-by-melt <br />\n",
    "\n",
    "https://pandas.pydata.org/docs/reference/api/pandas.DataFrame.melt.html <br />\n",
    "\n",
    "**Parameters:**\n",
    "- *id_vars*: Column(s) to use as identifier variables.\n",
    "- *value_vars*: Column(s) to unpivot. If not specified, uses all columns not set as id_vars.\n",
    "- *var_name*: Name to use for 'variable' column. If None, uses frame.columns.name or 'variable'.\n",
    "- *value_name*: Name to use for 'value' column.\n",
    "- *col_level*: If columns MultiIndex, then use this level to melt.\n",
    "- *ignore_index*: If True, original index ignored. If False, original index retained. Index labels will be repeated as necessary\n",
    "- Returns: Reshaped DataFrame"
   ]
  },
  {
   "cell_type": "code",
   "execution_count": null,
   "id": "29d0af1a-90c3-438d-9ce6-654bd19549db",
   "metadata": {},
   "outputs": [],
   "source": [
    "# 38. melt following DataFrame: 'mortality_wide'\n",
    "# id_vars= 'Year'\n",
    "# value_vars=['01-04 Years', '05-09 Years']\n",
    "# var_name='AgeGroup'\n",
    "# value_name='DeathRate'\n",
    "# assign resulting DataFrame to 'mortality_long' variable, then display first 4 records\n",
    "\n",
    "mortality_long = mortality_wide.melt(\n",
    "    id_vars='Year',\n",
    "    value_vars=['01-04 Years', '05-09 Years'],\n",
    "    var_name='AgeGroup',\n",
    "    value_name='DeathRate')\n",
    "mortality_long.head(4)"
   ]
  },
  {
   "cell_type": "code",
   "execution_count": null,
   "id": "331eb7ee-4132-4b7e-b18c-e0e303de7dca",
   "metadata": {},
   "outputs": [],
   "source": [
    "# 39. using pandas option_context() function, display 6 rows (first 3 and last 3) and all cols\n",
    "# Note: option_context() - executes codeblock with set of options that revert to prior settings after execution\n",
    "# Note: 'None' value for 'display.max_columns' property returns *all* cols.\n",
    "with pd.option_context(\n",
    "    'display.max_rows', 6,\n",
    "        'display.max_columns', None):\n",
    "    print(mortality_long)"
   ]
  },
  {
   "cell_type": "markdown",
   "id": "ed9e790e-4466-4497-bc80-492e697d9cdb",
   "metadata": {},
   "source": [
    "## Analyze grouped data using (single) aggregate functions"
   ]
  },
  {
   "cell_type": "code",
   "execution_count": null,
   "id": "c8ee81f9-5a1b-46e8-8b25-070048af4bcc",
   "metadata": {},
   "outputs": [],
   "source": [
    "# 40. display first 5 records of 'mortality_data' DF (i.e., prior to aggregation)\n",
    "mortality_data.head()"
   ]
  },
  {
   "cell_type": "code",
   "execution_count": null,
   "id": "0458c603-10be-4165-b263-b6a1d51c86bb",
   "metadata": {},
   "outputs": [],
   "source": [
    "# 41. group 'AgeGroup' by mean, and display DF\n",
    "mortality_data.groupby('AgeGroup').mean()"
   ]
  },
  {
   "cell_type": "code",
   "execution_count": null,
   "id": "52c27351-db37-4c70-8c8c-9472a073352a",
   "metadata": {},
   "outputs": [],
   "source": [
    "# 42. group 'Year' by median, and display first 4 records\n",
    "# Note: see numeric_only=True note above.\n",
    "mortality_data.groupby('Year').median(numeric_only=True).head(4)"
   ]
  },
  {
   "cell_type": "code",
   "execution_count": null,
   "id": "cca3f646-f59c-4b81-9f3f-67a627df85b3",
   "metadata": {},
   "outputs": [],
   "source": [
    "# 43. group 'Year' and 'AgeGroup' by count, and display first 5 records\n",
    "# Note: only for demo purposes, since there is only 1 record for each group\n",
    "mortality_data.groupby(['Year', 'AgeGroup']).count().head()"
   ]
  },
  {
   "cell_type": "code",
   "execution_count": null,
   "id": "d5a8bd71-4bb2-4741-a6b7-3fd28bae6108",
   "metadata": {},
   "outputs": [],
   "source": [
    "# 44. group 'AgeGroup', then return statistical summary for 'DeathRate' using 'describe()' function\n",
    "mortality_data.groupby('AgeGroup')['DeathRate'].describe()"
   ]
  },
  {
   "cell_type": "code",
   "execution_count": null,
   "id": "5717d37f-8ead-4e96-8342-529fcb2e406c",
   "metadata": {},
   "outputs": [],
   "source": [
    "# 45. group 'AgeGroup', then using agg() function, aggregate *all* columns using 'mean' and 'median' functions\n",
    "mortality_data.groupby('AgeGroup').agg(['mean', 'median'])"
   ]
  },
  {
   "cell_type": "code",
   "execution_count": null,
   "id": "ef579351-52fe-4960-b963-bcea7164a763",
   "metadata": {},
   "outputs": [],
   "source": [
    "# 46. group 'AgeGroup', then using agg() function, aggregate only 'DeathRate' column\n",
    "# using 'mean,' 'median,' 'standard deviation,' and 'unique' functions\n",
    "mortality_data.groupby('AgeGroup')['DeathRate'].agg(['mean', 'median', 'std', 'nunique'])"
   ]
  },
  {
   "cell_type": "code",
   "execution_count": null,
   "id": "491051ed-f361-4190-9147-6fd22ff543ed",
   "metadata": {},
   "outputs": [],
   "source": [
    "# 47. group 'Year', then using agg() function, aggregate only 'DeathRate' column\n",
    "# using 'mean,' 'median,' 'standard deviation,' 'min,' 'max,' 'variance,' and 'unique functions\n",
    "mortality_data.groupby('Year')['DeathRate'].agg(['mean', 'median', 'std', 'min', 'max', 'var', 'nunique'])"
   ]
  },
  {
   "cell_type": "markdown",
   "id": "1f23c7cf-209b-4688-b981-e2399667560a",
   "metadata": {},
   "source": [
    "## Visualize data\n",
    "\n",
    "**Note**: There is **no** \"best\" way to visualize data. Different questions are best answered by different visualizations!\n",
    "\n",
    "**Chart Visualization**: https://pandas.pydata.org/docs/user_guide/visualization.html\n",
    "\n",
    "**An Intuitive Guide to Data Visualization in Python**: https://www.analyticsvidhya.com/blog/2021/02/an-intuitive-guide-to-visualization-in-python/"
   ]
  },
  {
   "cell_type": "code",
   "execution_count": null,
   "id": "63849013-d3da-482c-bae2-d48544ed0cee",
   "metadata": {},
   "outputs": [],
   "source": [
    "# 48. pivot 'mortality_data' DataFrame using the following parameters:\n",
    "# index: 'Year'\n",
    "# column to use to make new frame's columns: 'AgeGroup'\n",
    "# values: all remaining columns to populate new DataFrame's values\n",
    "# Note: if no 'values' par, uses *all* remaining cols!\n",
    "# after pivoting DataFrame, use plot() function to display line plot (default)\n",
    "mortality_data.pivot(index='Year',columns='AgeGroup')['DeathRate'].plot()"
   ]
  },
  {
   "cell_type": "code",
   "execution_count": null,
   "id": "6061b87f-d981-4c26-a079-16e75ef70a3b",
   "metadata": {},
   "outputs": [],
   "source": [
    "# 49. display some plot as above by re-indexing mortality_wide DF\n",
    "# Note: Because, saving wide DataFrame to Excel file changes index--must re-index (see above)!\n",
    "# Change index back to 'Year'\n",
    "mortality_wide = mortality_wide.set_index('Year')\n",
    "\n",
    "# save wide DataFrame to pickle file ('mortality_wide.pkl')\n",
    "# read saved pickle file and assign to 'mortality_wide' variable,\n",
    "# then display first 5 records to display new index\n",
    "mortality_wide.to_pickle('mortality_wide.pkl')\n",
    "mortality_wide = pd.read_pickle('mortality_wide.pkl')\n",
    "mortality_wide.head()"
   ]
  },
  {
   "cell_type": "markdown",
   "id": "e502b498-224b-4ccd-814c-616b168b64fc",
   "metadata": {},
   "source": [
    "## Outliers\n",
    "- Defined: \"Unusual\" dataset values\n",
    "- Problematic: Distort findings\n",
    "- Identifying outliers (simple):\n",
    "  1. Sort data\n",
    "  2. Graphs (e.g., boxplot (very easy to see!), scatterplot, and histogram)\n",
    "- Fixing:\n",
    "  1. Keep (not always bad!)\n",
    "  2. Drop\n",
    "  3. Modify (Winsorizing): https://en.wikipedia.org/wiki/Winsorizing <br />\n",
    "     A. Cap (values) <br />\n",
    "     B. Reassign (e.g., to mean/median value, or linear interpolation - \"curve fitting\"/estimating new values) <br />\n",
    "     C. Other (nonexclusive) procedures--that is, not permitting \"exclusive\" procedures like trimming or truncating values <br />"
   ]
  },
  {
   "cell_type": "code",
   "execution_count": null,
   "id": "e8988859-a269-4a04-8bf6-53b7917284a9",
   "metadata": {},
   "outputs": [],
   "source": [
    "# https://www.simplypsychology.org/boxplots.html\n",
    "# 50. using 'mortality_data' DataFrame, create a box plot (aka \"box and whisker plot\") for each age group\n",
    "# Note: box plot displays five-number summary: min, 1st quartile, median (2nd quartile), 3rd quartile, and max.\n",
    "# Note: interquartile range (IQR) is the \"box\"\n",
    "# Note: outliers are *actual* min/max values (data points located outside whiskers of box plot)\n",
    "mortality_wide.plot.box()"
   ]
  },
  {
   "cell_type": "code",
   "execution_count": null,
   "id": "15dbd074-ff46-4f56-a46e-14c60d57d470",
   "metadata": {},
   "outputs": [],
   "source": [
    "# 51. display line plot for re-indexing mortality_wide DF\n",
    "# Note: xlabel: 'Year', ylabel: 'Deaths per 100,000', title: 'DeathRate by AgeGroup'\n",
    "mortality_wide.plot(xlabel='Year', ylabel='Deaths per 100,000', title='DeathRate by AgeGroup')"
   ]
  },
  {
   "cell_type": "code",
   "execution_count": null,
   "id": "c11cfdee-8afe-4a65-a6d2-6920911ca3a4",
   "metadata": {},
   "outputs": [],
   "source": [
    "# 52. using 'mortality_data' DataFrame, group 'AgeGroup', then aggregate only 'DeathRate' column\n",
    "# using 'mean,' 'median,' and 'standard deviation' aggregate functions, then, plot vertical bar plot (rotate x-axis labels 45 degrees)\n",
    "mortality_data.groupby('AgeGroup')['DeathRate'].agg(['mean', 'median', 'std']).plot.bar(rot=45)"
   ]
  },
  {
   "cell_type": "code",
   "execution_count": null,
   "id": "65f1c6b7-60b3-4588-8d1c-0d3e7cb0fa6f",
   "metadata": {},
   "outputs": [],
   "source": [
    "# 53. same as above using horizontal bar plot\n",
    "mortality_data.groupby('AgeGroup')['DeathRate'].agg(['mean', 'median', 'std']).plot.barh()"
   ]
  },
  {
   "cell_type": "code",
   "execution_count": null,
   "id": "451c780c-76e1-49f9-99e5-9e82a34c3da0",
   "metadata": {},
   "outputs": [],
   "source": [
    "# 54. using 'mortality_data' DataFrame, query the following years: 1900, 1925, 1950, 1975, 2000, group by 'Year',\n",
    "# then aggregate only 'DeathRate' column using sum() function, and, plot the following graph using pie plot\n",
    "mortality_data.query('Year in (1900, 1925, 1950, 1975, 2000)').groupby('Year').DeathRate.sum().plot.pie()"
   ]
  },
  {
   "cell_type": "code",
   "execution_count": null,
   "id": "641b3522-2361-46b4-96e4-7354583603f9",
   "metadata": {},
   "outputs": [],
   "source": [
    "# 55. using 'mortality_wide' DataFrame, query the following years: 1900, 1925, 1950, 1975, 2000\n",
    "# then, create subplots for each of the following age groups: 01-04, 05-09, 10-14, 15-19\n",
    "# create a 2x2 layout, set sharey par. to True (to turn off y labels on remaining horizontal charts), use figure size of 8\"x5\" (WxH)\n",
    "mortality_wide.query('Year in (1900, 1925, 1950, 1975, 2000)').plot.barh(\n",
    "    title=['Child Mortality: 01-04', 'Child Mortality: 05-09',\n",
    "           'Child Mortality: 10-14', 'Child Mortality: 15-19'],\n",
    "    sharey=True, legend=False, subplots=True, layout=(2,2), figsize=(8,5))"
   ]
  },
  {
   "cell_type": "code",
   "execution_count": null,
   "id": "249394f7-a50a-450a-a763-8491ac606071",
   "metadata": {},
   "outputs": [],
   "source": [
    "# https://pandas.pydata.org/pandas-docs/version/0.25.0/reference/api/pandas.DataFrame.plot.scatter.html\n",
    "# 56. using 'mortality_data' DataFrame, query the following AgeGroup: 01-04 Years,\n",
    "# then, plot the following graph using scatter plot, with a color of your choice\n",
    "\n",
    "# Note, if receiving a color warning, just hit Shift+Enter in this cell\n",
    "# Appears to be an Anaconda issue, as plot documentation is above.\n",
    "mortality_data.query('AgeGroup == \"01-04 Years\"').plot.scatter(x='Year', y='DeathRate', c='Blue')"
   ]
  }
 ],
 "metadata": {
  "kernelspec": {
   "display_name": "Python 3 (ipykernel)",
   "language": "python",
   "name": "python3"
  },
  "language_info": {
   "codemirror_mode": {
    "name": "ipython",
    "version": 3
   },
   "file_extension": ".py",
   "mimetype": "text/x-python",
   "name": "python",
   "nbconvert_exporter": "python",
   "pygments_lexer": "ipython3",
   "version": "3.11.7"
  }
 },
 "nbformat": 4,
 "nbformat_minor": 5
}
