{
 "cells": [
  {
   "cell_type": "markdown",
   "id": "bf57291c-26c0-4ccc-9eb0-1ac09ba7cbe4",
   "metadata": {},
   "source": [
    "# Assignment 4 - Predictive Analysis (Simple Linear Regression)\n",
    "\n",
    "**Developer**: Tanner Morlan\n",
    "\n",
    "**Course**: LIS4930\n",
    "\n",
    "**Program Requirements**:\n",
    "1. Contrast similarities/differences among AI vs. Machine-Learning vs. Deep-Learning\n",
    "2. Identify correlations\n",
    "3. Use Seaborn (data visualization library build on top of matplotlib)\n",
    "4. Graph correlations\n",
    "5. Use simple linear regression\n",
    "6. Create linear model\n",
    "7. Plot regression line\n",
    "8. Make predictions - using simple linear regression model\n",
    "9. Plot residuals\n",
    "\n",
    "# Regression Analysis\n",
    "\n",
    "## What is regression analysis?\n",
    "\n",
    "1. Equation predicts \"**unknown values**\" (i.e. *dependent variables*) based upon one or more **known values** (i.e., *independent variable(s)*).\n",
    "2. **Dependent variables (also called)**: *response, outcome/output, or target* variables (respond to changes in (an)other variable(s))\n",
    "3. **Independent variables (also called**: *predictor, input, regressor, or explanatory* variable(s) (predict/explain changed values of dependent variable(s))\n",
    "4. **Goal**: Find the best fitting line which can accurately predict the output.\n",
    "\n",
    "*Dependent* variables (**output on y-axis**) are *always* the ones being *studied*--that is, wh ose variation(s) is/are being modified somehow.\n",
    "\n",
    "*Independent* variables (**input on x-axis**) are *always* the ones being manipulated, to study and compare the effects on other dependent variable(s).\n",
    "\n",
    "**Note**: The designations *independent* and *dependent* variables are used to not imply \"cause and effect\" (as do \"predictor\" or \"explanatory\" terms).\n",
    "\n",
    "**Note**: Based on the number of input and output variables, linear regression has three types:\n",
    "1. Simple linear regression (1 DV/1 IV)\n",
    "2. Multiple linear regression (1 DV/2 or more IVs)\n",
    "3. Multivariate linear regression (2 or more DVs/2 or more IVs)\n",
    "\n",
    "**Simple linear regression**: Only **one** *independent* variable affecting **one** *dependent* variable.\n",
    "\n",
    "**Multiple linear regression: Two or more** *independent* variables affecting **one** *dependent* variable.\n",
    "\n",
    "**Multivariate linear regression: Two or more** *independent* variables affecting **two or more** *dependent* variable.\n",
    "\n",
    "# Independent Variables vs. Dependent Variables\n",
    "\n",
    "**Independent Variables (predictors):**\n",
    "\n",
    "- Can the variable(s) be manipulated or controlled?\n",
    "- Do(es) the variable(s) come before the other variable(s) chronologically?\n",
    "- Is/are the variables being used to see the affects on (an)other variable(s)?\n",
    "\n",
    "**Dependent variables (outcomes):**\n",
    "\n",
    "- Is/are the variable(s) being used as (a) measured outcome(s)?\n",
    "- Do(es) the variable(s) depend upon an(other) variable(s)?\n",
    "- Is/are this/these variable(s) measured after an(other) variable(s) is/are modified?\n",
    "\n",
    "# Supervised vs. Unsupervised Learning\n",
    "\n",
    "- Supervised learning: prior knowledge of what output values for samples should be.\n",
    "- Unsupervised learning: does not have labeled outputs. Goal is to infer natural structure present within a set of data points.\n",
    "\n",
    "**References:** https://www.ibm.com/cloud/blog/supervised-vs-unsupervised-learning\n",
    "\n",
    "https://www.seldon.io/supervised-vs-unsupervised-learning-explained"
   ]
  },
  {
   "cell_type": "code",
   "execution_count": 3,
   "id": "9db4e016-ebfa-49a9-be57-ba8418650f35",
   "metadata": {},
   "outputs": [],
   "source": [
    "# 1. import pandas and numpy libraries to perform mathematical functions\n",
    "import numpy as np\n",
    "import pandas as pd\n",
    "\n",
    "# Note: The following code *can* be used to suppress warnings (though, best just to fix them!).\n",
    "# import warnings\n",
    "# warnings.filterwarnings('ignore')"
   ]
  },
  {
   "cell_type": "markdown",
   "id": "5b2ca5e2-f580-4514-9995-af3391c2b6ca",
   "metadata": {},
   "source": [
    "# Get data - read cleaned .csv file"
   ]
  },
  {
   "cell_type": "code",
   "execution_count": 6,
   "id": "25a7fa74-a4ee-4574-b7f6-df5a9db43756",
   "metadata": {},
   "outputs": [
    {
     "data": {
      "text/html": [
       "<div>\n",
       "<style scoped>\n",
       "    .dataframe tbody tr th:only-of-type {\n",
       "        vertical-align: middle;\n",
       "    }\n",
       "\n",
       "    .dataframe tbody tr th {\n",
       "        vertical-align: top;\n",
       "    }\n",
       "\n",
       "    .dataframe thead th {\n",
       "        text-align: right;\n",
       "    }\n",
       "</style>\n",
       "<table border=\"1\" class=\"dataframe\">\n",
       "  <thead>\n",
       "    <tr style=\"text-align: right;\">\n",
       "      <th></th>\n",
       "      <th>TV</th>\n",
       "      <th>Radio</th>\n",
       "      <th>Newspaper</th>\n",
       "      <th>Sales</th>\n",
       "    </tr>\n",
       "  </thead>\n",
       "  <tbody>\n",
       "    <tr>\n",
       "      <th>0</th>\n",
       "      <td>230.1</td>\n",
       "      <td>37.8</td>\n",
       "      <td>69.2</td>\n",
       "      <td>22.1</td>\n",
       "    </tr>\n",
       "    <tr>\n",
       "      <th>1</th>\n",
       "      <td>44.5</td>\n",
       "      <td>39.3</td>\n",
       "      <td>45.1</td>\n",
       "      <td>10.4</td>\n",
       "    </tr>\n",
       "    <tr>\n",
       "      <th>2</th>\n",
       "      <td>17.2</td>\n",
       "      <td>45.9</td>\n",
       "      <td>69.3</td>\n",
       "      <td>12.0</td>\n",
       "    </tr>\n",
       "    <tr>\n",
       "      <th>3</th>\n",
       "      <td>151.5</td>\n",
       "      <td>41.3</td>\n",
       "      <td>58.5</td>\n",
       "      <td>16.5</td>\n",
       "    </tr>\n",
       "    <tr>\n",
       "      <th>4</th>\n",
       "      <td>180.8</td>\n",
       "      <td>10.8</td>\n",
       "      <td>58.4</td>\n",
       "      <td>17.9</td>\n",
       "    </tr>\n",
       "    <tr>\n",
       "      <th>...</th>\n",
       "      <td>...</td>\n",
       "      <td>...</td>\n",
       "      <td>...</td>\n",
       "      <td>...</td>\n",
       "    </tr>\n",
       "    <tr>\n",
       "      <th>195</th>\n",
       "      <td>38.2</td>\n",
       "      <td>3.7</td>\n",
       "      <td>13.8</td>\n",
       "      <td>7.6</td>\n",
       "    </tr>\n",
       "    <tr>\n",
       "      <th>196</th>\n",
       "      <td>94.2</td>\n",
       "      <td>4.9</td>\n",
       "      <td>8.1</td>\n",
       "      <td>14.0</td>\n",
       "    </tr>\n",
       "    <tr>\n",
       "      <th>197</th>\n",
       "      <td>177.0</td>\n",
       "      <td>9.3</td>\n",
       "      <td>6.4</td>\n",
       "      <td>14.8</td>\n",
       "    </tr>\n",
       "    <tr>\n",
       "      <th>198</th>\n",
       "      <td>283.6</td>\n",
       "      <td>42.0</td>\n",
       "      <td>66.2</td>\n",
       "      <td>25.5</td>\n",
       "    </tr>\n",
       "    <tr>\n",
       "      <th>199</th>\n",
       "      <td>232.1</td>\n",
       "      <td>8.6</td>\n",
       "      <td>8.7</td>\n",
       "      <td>18.4</td>\n",
       "    </tr>\n",
       "  </tbody>\n",
       "</table>\n",
       "<p>200 rows × 4 columns</p>\n",
       "</div>"
      ],
      "text/plain": [
       "        TV  Radio  Newspaper  Sales\n",
       "0    230.1   37.8       69.2   22.1\n",
       "1     44.5   39.3       45.1   10.4\n",
       "2     17.2   45.9       69.3   12.0\n",
       "3    151.5   41.3       58.5   16.5\n",
       "4    180.8   10.8       58.4   17.9\n",
       "..     ...    ...        ...    ...\n",
       "195   38.2    3.7       13.8    7.6\n",
       "196   94.2    4.9        8.1   14.0\n",
       "197  177.0    9.3        6.4   14.8\n",
       "198  283.6   42.0       66.2   25.5\n",
       "199  232.1    8.6        8.7   18.4\n",
       "\n",
       "[200 rows x 4 columns]"
      ]
     },
     "execution_count": 6,
     "metadata": {},
     "output_type": "execute_result"
    }
   ],
   "source": [
    "# 2. assign cleaned .csv file to \"advertising_data\" variable\n",
    "# Read given CSV file, and view some sample records\n",
    "advertising_data = pd.read_csv(\"my_company_data.csv\")\n",
    "\n",
    "# display firat and last 5 records\n",
    "advertising_data"
   ]
  },
  {
   "cell_type": "markdown",
   "id": "8fec4834-f108-4160-9599-c6814b39c874",
   "metadata": {},
   "source": [
    "# Analyze dataset"
   ]
  },
  {
   "cell_type": "code",
   "execution_count": 11,
   "id": "f39db79a-3f51-4e65-be29-24b1567c0df8",
   "metadata": {},
   "outputs": [
    {
     "data": {
      "text/plain": [
       "(200, 4)"
      ]
     },
     "execution_count": 11,
     "metadata": {},
     "output_type": "execute_result"
    }
   ],
   "source": [
    "# 3. print number of rows and columns\n",
    "advertising_data.shape"
   ]
  },
  {
   "cell_type": "code",
   "execution_count": 13,
   "id": "1c74a124-aa6a-4212-bdc5-ee66ab5a929b",
   "metadata": {},
   "outputs": [
    {
     "name": "stdout",
     "output_type": "stream",
     "text": [
      "<class 'pandas.core.frame.DataFrame'>\n",
      "RangeIndex: 200 entries, 0 to 199\n",
      "Data columns (total 4 columns):\n",
      " #   Column     Non-Null Count  Dtype  \n",
      "---  ------     --------------  -----  \n",
      " 0   TV         200 non-null    float64\n",
      " 1   Radio      200 non-null    float64\n",
      " 2   Newspaper  200 non-null    float64\n",
      " 3   Sales      200 non-null    float64\n",
      "dtypes: float64(4)\n",
      "memory usage: 6.4 KB\n"
     ]
    }
   ],
   "source": [
    "# 4. print dataframe info (Note: also, indicated null values, which, if present, would need to be remedied.)\n",
    "advertising_data.info()"
   ]
  },
  {
   "cell_type": "code",
   "execution_count": 15,
   "id": "05ff1180-752b-4e38-9fc9-4fba17fb5561",
   "metadata": {},
   "outputs": [
    {
     "name": "stdout",
     "output_type": "stream",
     "text": [
      "          TV  Radio  Newspaper  Sales\n",
      "count 200.00 200.00     200.00 200.00\n",
      "mean  147.04  23.26      30.55  15.13\n",
      "std    85.85  14.85      21.78   5.28\n",
      "min     0.70   0.00       0.30   1.60\n",
      "25%    74.38   9.97      12.75  11.00\n",
      "50%   149.75  22.90      25.75  16.00\n",
      "75%   218.82  36.52      45.10  19.05\n",
      "max   296.40  49.60     114.00  27.00\n"
     ]
    }
   ],
   "source": [
    "# 5. print dataframe statistics summary\n",
    "advertising_data.describe()\n",
    "\n",
    "# format entire dataframe to two decimal places\n",
    "pd.options.display.float_format = \"{:,.2f}\".format\n",
    "\n",
    "print(advertising_data.describe())"
   ]
  },
  {
   "cell_type": "code",
   "execution_count": 17,
   "id": "e76a796c-f2a0-4272-8452-4b3c0f5ef2f3",
   "metadata": {},
   "outputs": [
    {
     "data": {
      "text/html": [
       "<div>\n",
       "<style scoped>\n",
       "    .dataframe tbody tr th:only-of-type {\n",
       "        vertical-align: middle;\n",
       "    }\n",
       "\n",
       "    .dataframe tbody tr th {\n",
       "        vertical-align: top;\n",
       "    }\n",
       "\n",
       "    .dataframe thead th {\n",
       "        text-align: right;\n",
       "    }\n",
       "</style>\n",
       "<table border=\"1\" class=\"dataframe\">\n",
       "  <thead>\n",
       "    <tr style=\"text-align: right;\">\n",
       "      <th></th>\n",
       "      <th>TV</th>\n",
       "      <th>Radio</th>\n",
       "      <th>Newspaper</th>\n",
       "      <th>Sales</th>\n",
       "    </tr>\n",
       "  </thead>\n",
       "  <tbody>\n",
       "    <tr>\n",
       "      <th>TV</th>\n",
       "      <td>1.00</td>\n",
       "      <td>0.05</td>\n",
       "      <td>0.06</td>\n",
       "      <td>0.90</td>\n",
       "    </tr>\n",
       "    <tr>\n",
       "      <th>Radio</th>\n",
       "      <td>0.05</td>\n",
       "      <td>1.00</td>\n",
       "      <td>0.35</td>\n",
       "      <td>0.35</td>\n",
       "    </tr>\n",
       "    <tr>\n",
       "      <th>Newspaper</th>\n",
       "      <td>0.06</td>\n",
       "      <td>0.35</td>\n",
       "      <td>1.00</td>\n",
       "      <td>0.16</td>\n",
       "    </tr>\n",
       "    <tr>\n",
       "      <th>Sales</th>\n",
       "      <td>0.90</td>\n",
       "      <td>0.35</td>\n",
       "      <td>0.16</td>\n",
       "      <td>1.00</td>\n",
       "    </tr>\n",
       "  </tbody>\n",
       "</table>\n",
       "</div>"
      ],
      "text/plain": [
       "            TV  Radio  Newspaper  Sales\n",
       "TV        1.00   0.05       0.06   0.90\n",
       "Radio     0.05   1.00       0.35   0.35\n",
       "Newspaper 0.06   0.35       1.00   0.16\n",
       "Sales     0.90   0.35       0.16   1.00"
      ]
     },
     "execution_count": 17,
     "metadata": {},
     "output_type": "execute_result"
    }
   ],
   "source": [
    "# 6. Display pairwise correlations of *all* columns in dataframe.\n",
    "advertising_data.corr().head()\n",
    "\n",
    "# Note: \"Perfect\" correlations (1.0) with same attributes (e.g., \"TV\" and \"TV\").\n",
    "# Note: High correlation between \"TV\" (ads) and \"Sales\"--much less for \"Radio\"!"
   ]
  },
  {
   "cell_type": "code",
   "execution_count": 19,
   "id": "2d7ca67a-e820-436d-baca-3547c7fdacf9",
   "metadata": {},
   "outputs": [],
   "source": [
    "# 7. import matplotlib and seaborn libraries to visualize data\n",
    "# Note: # Seaborn provides more visualization patterns, with less syntax than matplotlib\n",
    "import matplotlib.pyplot as plt\n",
    "import seaborn as sns"
   ]
  },
  {
   "cell_type": "code",
   "execution_count": 23,
   "id": "58562ff2-4aa5-4ca4-ac8c-eec68cfb34a1",
   "metadata": {},
   "outputs": [
    {
     "data": {
      "text/plain": [
       "<seaborn.axisgrid.PairGrid at 0x2cab1d5bc90>"
      ]
     },
     "execution_count": 23,
     "metadata": {},
     "output_type": "execute_result"
    },
    {
     "data": {
      "image/png": "[encoded data removed]",
      "text/plain": [
       "<Figure size 1200x400 with 3 Axes>"
      ]
     },
     "metadata": {},
     "output_type": "display_data"
    }
   ],
   "source": [
    "# 8. visualize data for correlations using pairplot(). y=DV(s), x=IV(s)\n",
    "# pairplot(): Plot pairwise relationships in dataset.\n",
    "# https://seaborn.pydata.org/generated/seaborn.pairplot.html\n",
    "# Note: scatter plot good when comparing two numeric variables, like here!\n",
    "sns.pairplot(advertising_data, x_vars=['TV', 'Radio', 'Newspaper'], y_vars='Sales', height=4, aspect=1, kind='scatter')"
   ]
  },
  {
   "cell_type": "code",
   "execution_count": 25,
   "id": "96b74d85-58a1-469c-af55-4b7ad68e02ad",
   "metadata": {},
   "outputs": [
    {
     "data": {
      "text/html": [
       "<div>\n",
       "<style scoped>\n",
       "    .dataframe tbody tr th:only-of-type {\n",
       "        vertical-align: middle;\n",
       "    }\n",
       "\n",
       "    .dataframe tbody tr th {\n",
       "        vertical-align: top;\n",
       "    }\n",
       "\n",
       "    .dataframe thead th {\n",
       "        text-align: right;\n",
       "    }\n",
       "</style>\n",
       "<table border=\"1\" class=\"dataframe\">\n",
       "  <thead>\n",
       "    <tr style=\"text-align: right;\">\n",
       "      <th></th>\n",
       "      <th>Sales</th>\n",
       "    </tr>\n",
       "  </thead>\n",
       "  <tbody>\n",
       "    <tr>\n",
       "      <th>Sales</th>\n",
       "      <td>1.00</td>\n",
       "    </tr>\n",
       "    <tr>\n",
       "      <th>TV</th>\n",
       "      <td>0.90</td>\n",
       "    </tr>\n",
       "    <tr>\n",
       "      <th>Radio</th>\n",
       "      <td>0.35</td>\n",
       "    </tr>\n",
       "    <tr>\n",
       "      <th>Newspaper</th>\n",
       "      <td>0.16</td>\n",
       "    </tr>\n",
       "  </tbody>\n",
       "</table>\n",
       "</div>"
      ],
      "text/plain": [
       "           Sales\n",
       "Sales       1.00\n",
       "TV          0.90\n",
       "Radio       0.35\n",
       "Newspaper   0.16"
      ]
     },
     "execution_count": 25,
     "metadata": {},
     "output_type": "execute_result"
    }
   ],
   "source": [
    "# 9. Display one attribute's correlation (\"Sales\") to *all* other columns in dataframe, sorted in descending order by Sales.\n",
    "advertising_data.corr()[['Sales']].sort_values(by='Sales', ascending=False)"
   ]
  },
  {
   "cell_type": "code",
   "execution_count": 27,
   "id": "25cdadce-eba0-4372-b329-54581b48b052",
   "metadata": {},
   "outputs": [
    {
     "data": {
      "text/plain": [
       "<seaborn.axisgrid.FacetGrid at 0x2cab193f7d0>"
      ]
     },
     "execution_count": 27,
     "metadata": {},
     "output_type": "execute_result"
    },
    {
     "data": {
      "image/png": "[encoded data removed]",
      "text/plain": [
       "<Figure size 500x500 with 1 Axes>"
      ]
     },
     "metadata": {},
     "output_type": "display_data"
    }
   ],
   "source": [
    "# 10. Focus on correlation between \"TV\" (ads) and \"Sales.\"\n",
    "sns.relplot(data=advertising_data, x='TV', y='Sales')\n",
    "\n",
    "# Note: Seaborn relational plot (relplot) visualizes how variables relate to each other within a dataset.\n",
    "# Note: When looking for correlations, see if a line can be drawn through as many datapoints as possible."
   ]
  },
  {
   "cell_type": "code",
   "execution_count": 33,
   "id": "194e4b67-1874-4919-ac6f-ca19dff8e071",
   "metadata": {},
   "outputs": [
    {
     "data": {
      "image/png": "[encoded data removed]",
      "text/plain": [
       "<Figure size 640x480 with 2 Axes>"
      ]
     },
     "metadata": {},
     "output_type": "display_data"
    }
   ],
   "source": [
    "# 11. Visually display correlations using Seaborn's heatmap() function.\n",
    "# https://seaborn.pydata.org/generated/seaborn.heatmap.html\n",
    "sns.heatmap(advertising_data.corr(), cmap=\"YlGnBu\", annot = True)\n",
    "plt.show()\n",
    "\n",
    "# Note: \"annot\" property set to \"True\" so that r-values are displayed in each cell.\n",
    "# Here, display color bar. To turn off: cbar=False (default True)."
   ]
  },
  {
   "cell_type": "code",
   "execution_count": 35,
   "id": "992bcb7f-6e4b-46a3-ae2d-21acabef06d7",
   "metadata": {},
   "outputs": [
    {
     "data": {
      "text/plain": [
       "<Axes: >"
      ]
     },
     "execution_count": 35,
     "metadata": {},
     "output_type": "execute_result"
    },
    {
     "data": {
      "image/png": "[encoded data removed]",
      "text/plain": [
       "<Figure size 640x480 with 1 Axes>"
      ]
     },
     "metadata": {},
     "output_type": "display_data"
    }
   ],
   "source": [
    "# 12. Visually condense correlations of one variable to other variables.\n",
    "sns.heatmap(data=advertising_data.corr()[['Sales']].sort_values(by='Sales', ascending=False), annot=True, cmap='YlGnBu', cbar=False, fmt=f'.2f')\n",
    "\n",
    "# Note: \"annot\" property set to \"True\" so that r-values are displayed in each cell.\n",
    "# Here, hide the color bar here (cbar=False), as it is self-explanatory.\n",
    "# Also note, no vmin/vmax properties used--which automatically determines min/max values from data (also, provides greater color contrast)."
   ]
  },
  {
   "cell_type": "markdown",
   "id": "fd466ece-53ff-4be6-b8d7-fe9e893e384d",
   "metadata": {},
   "source": [
    "# Simple Linear Regression Steps\n",
    "\n",
    "1. Identify x (IV) and y (DV): x=TV, y=Sales\n",
    "2. Create Train and Test datasets\n",
    "3. Train model\n",
    "4. Evaluate model"
   ]
  },
  {
   "cell_type": "code",
   "execution_count": 38,
   "id": "19e2c6e7-4046-48d6-aa7c-7d1b3264a1d7",
   "metadata": {},
   "outputs": [],
   "source": [
    "# 13. Identify x (IV) and y (DV)\n",
    "x = advertising_data['TV']\n",
    "y = advertising_data['Sales']"
   ]
  },
  {
   "cell_type": "code",
   "execution_count": 40,
   "id": "5f1a6943-353b-458d-b082-afb3bbdc2fd3",
   "metadata": {},
   "outputs": [],
   "source": [
    "# 14. Create train and test datasets\n",
    "# a. split variables into training and testing sets\n",
    "# b. build model using training set, then run model on testing set\n",
    "\n",
    "# Note: Training dataset used to *fit* the model, and test dataset is used to *evaluate* tthe model.\n",
    "# Training data is the biggest subset of *original* dataset--used to train or fit the model.\n",
    "# Test dataset is another subset of *original* data, independent of training dataset--validates model's accuracy.\n",
    "# https://www.javatpoint.com/train-and-test-datasets-in-machine-learning\n",
    "\n",
    "# split variables into train and test datasets into 7:3 ratio, respectively, by importing train_test_split\n",
    "# Translation: 70% of observations for training, and remaining 30% for testing\n",
    "# train_test_split():\n",
    "# https://realpython.com/train-test-split-python-data/\n",
    "\n",
    "# random_state: controls randomization during splitting (default value None).\n",
    "# random_state value not important--can be any non-negative integer.\n",
    "# Generally, *only* used to make tests reproducible--provides fixed seed value.\n",
    "# https://numpy.org/doc/stable/reference/random/legacy.html#numpy.random.RandomState\n",
    "from sklearn.model_selection import train_test_split\n",
    "x_train, x_test, y_train, y_test = train_test_split(x, y, train_size = 0.7, test_size = 0.3, random_state = 100)\n",
    "\n",
    "# Note: To date, there's no clear cut agreement on data split ratios, only common practices.\n",
    "# https://onlinelibrary.wiley.com/doi/10.1002/sam.11583\n",
    "# https://www.baeldung.com/cs/train-test-datasets-ratio"
   ]
  },
  {
   "cell_type": "markdown",
   "id": "a8df339f-2a92-4eba-951c-85deab124a0c",
   "metadata": {},
   "source": [
    "# Review train datasets after splitting"
   ]
  },
  {
   "cell_type": "code",
   "execution_count": 43,
   "id": "813be86a-d69b-4210-bb2c-6f1a8addc846",
   "metadata": {},
   "outputs": [
    {
     "data": {
      "text/plain": [
       "74    213.40\n",
       "3     151.50\n",
       "185   205.00\n",
       "26    142.90\n",
       "90    134.30\n",
       "       ...  \n",
       "87    110.70\n",
       "103   187.90\n",
       "67    139.30\n",
       "24     62.30\n",
       "8       8.60\n",
       "Name: TV, Length: 140, dtype: float64"
      ]
     },
     "execution_count": 43,
     "metadata": {},
     "output_type": "execute_result"
    }
   ],
   "source": [
    "# 15. Display x training dataset (IVs)\n",
    "x_train"
   ]
  },
  {
   "cell_type": "code",
   "execution_count": 45,
   "id": "5cbc00e5-872b-4d4e-be6b-0708e7a35cc1",
   "metadata": {},
   "outputs": [
    {
     "data": {
      "text/plain": [
       "74    17.00\n",
       "3     16.50\n",
       "185   22.60\n",
       "26    15.00\n",
       "90    14.00\n",
       "       ... \n",
       "87    16.00\n",
       "103   19.70\n",
       "67    13.40\n",
       "24     9.70\n",
       "8      4.80\n",
       "Name: Sales, Length: 140, dtype: float64"
      ]
     },
     "execution_count": 45,
     "metadata": {},
     "output_type": "execute_result"
    }
   ],
   "source": [
    "# 16. Display y training dataset\n",
    "y_train"
   ]
  },
  {
   "cell_type": "markdown",
   "id": "35313cb6-9853-4fe8-b0f5-36618b4a4851",
   "metadata": {},
   "source": [
    "### **Add column to perform regression fit properly for simple linear regression:**"
   ]
  },
  {
   "cell_type": "code",
   "execution_count": 48,
   "id": "d33f19b8-8dfa-4776-b25d-955c79054ad9",
   "metadata": {},
   "outputs": [
    {
     "name": "stdout",
     "output_type": "stream",
     "text": [
      "(140,)\n",
      "(60,)\n"
     ]
    }
   ],
   "source": [
    "# 17. Display shape for x train and test datasets, *before* adding column\n",
    "print(x_train.shape)\n",
    "print(x_test.shape)\n",
    "\n",
    "# Note: Array \"shape\" is number of elements in each dimension. (Here, 1 dimension array.)"
   ]
  },
  {
   "cell_type": "markdown",
   "id": "2d91a9a8-cf93-4904-9ab7-5061a7d9effe",
   "metadata": {},
   "source": [
    "# Prepare Model"
   ]
  },
  {
   "cell_type": "code",
   "execution_count": 51,
   "id": "a93adb59-a3de-4c19-83bb-94bb5dac2965",
   "metadata": {},
   "outputs": [
    {
     "name": "stdout",
     "output_type": "stream",
     "text": [
      "(140, 1)\n",
      "(60, 1)\n"
     ]
    }
   ],
   "source": [
    "# 18. add additional column to train and test datasets\n",
    "# By \"reshaping\" we can add or remove dimensions.\n",
    "# https://www.w3schools.com/python/numpy/numpy_array_reshape.asp\n",
    "\n",
    "# reshape() concept: first, raveling array (using given index order),\n",
    "# then inserting/deleting elements from raveled array into new array, using same index order for raveling.\n",
    "# https://numpy.org/doc/stable/reference/generated/numpy.reshape.html\n",
    "x_train = x_train.values.reshape(-1, 1)\n",
    "x_test = x_test.values.reshape(-1, 1)\n",
    "\n",
    "# 19. display shape for x train and test data, * after* adding column (Now, 2 dimension array.)\n",
    "print(x_train.shape)\n",
    "print(x_test.shape)"
   ]
  },
  {
   "cell_type": "markdown",
   "id": "7ebf9dd4-5016-4bd0-aeae-e8f2298e1a0c",
   "metadata": {},
   "source": [
    "# Fitting model: Find best fitting line -- to accurately predict output"
   ]
  },
  {
   "cell_type": "code",
   "execution_count": 55,
   "id": "db212e7f-8fc1-47d8-a820-0b1b9af3cc4f",
   "metadata": {},
   "outputs": [],
   "source": [
    "# 20. fit regression line to plot\n",
    "from sklearn.linear_model import LinearRegression\n",
    "\n",
    "# Note: Can create linear regression model object (instantiation) and fit in two steps, or at the same time\n",
    "# 1. Instantiate linear regression model object\n",
    "# lm = LinearRegression()\n",
    "\n",
    "# 2. fit model using fit() method\n",
    "# lm.fit(x_train, y_train)\n",
    "\n",
    "# Or...both at the same time...\n",
    "lm = LinearRegression().fit(x_train, y_train)\n",
    "\n",
    "# Note: fit() method accepts training dataset and fits regression line to dataset"
   ]
  },
  {
   "cell_type": "markdown",
   "id": "c06c7998-4980-4676-aa7a-a80dd18fa7a5",
   "metadata": {},
   "source": [
    "# Intercept and Slope - Why?"
   ]
  },
  {
   "cell_type": "code",
   "execution_count": 60,
   "id": "3885f5e3-a6ab-43cb-8501-4fb2eb7b6b26",
   "metadata": {},
   "outputs": [
    {
     "name": "stdout",
     "output_type": "stream",
     "text": [
      "Intercept : 6.948683200001357\n",
      "Slope : [0.05454575]\n"
     ]
    }
   ],
   "source": [
    "# print model corefficients\n",
    "\n",
    "# 21. print intercept value (aka the \"constant\"): Represents mean value of DV when all the IV(s) in model are equal to zero.\n",
    "# Note: Also known as \"y intercept.\" Simply, the value at which the fitted line (aka \"regression line\") crosses the y-axis.\n",
    "# https://www.statology.org/intercept-in-regression/#:~:text=The%20intercept%20(sometimes%20called%20the,model%20are%20%equal%20to%20zero.\n",
    "print(\"Intercept :\", lm.intercept_)\n",
    "\n",
    "# 22. print slope value: Indicates how much DV expected to change, as IV(s) increse(s)/decrease(s).\n",
    "# https://www.dummies.com/article/academics-the-arts/math/statistics/how-to-interpret-a-regression-line-169717/\n",
    "print('Slope :', lm.coef_)"
   ]
  },
  {
   "cell_type": "code",
   "execution_count": 62,
   "id": "ad8897a1-8a7c-4fdc-bfb6-6a4b7deca52b",
   "metadata": {},
   "outputs": [],
   "source": [
    "# 23. simple linear regression formula from above values\n",
    "# Y = mX + b\n",
    "# Y = DV, X = IV, m = estimated slope, b = estimated intercept\n",
    "\n",
    "# Note: parentheses not needed.\n",
    "# Sales = (0.054 * TV) + 6.948"
   ]
  },
  {
   "cell_type": "markdown",
   "id": "a60bf479-6fe6-4ba4-8571-2b9f9b94ef36",
   "metadata": {},
   "source": [
    "# r2 values - how well regression line approximates actual data\n",
    "\n",
    "- R2 also known as Coefficient of Determination.\n",
    "- R2 determines how good a linear fit exists between predictors and target variable.\n",
    "- Returns value between 0 and 1 (inclusive)--higher the value, better the model!"
   ]
  },
  {
   "cell_type": "code",
   "execution_count": 65,
   "id": "c5fff9f5-0cf6-43d3-9edb-259f9fa82073",
   "metadata": {},
   "outputs": [
    {
     "name": "stdout",
     "output_type": "stream",
     "text": [
      "0.8157933136480389\n",
      "0.7921031601245662\n"
     ]
    }
   ],
   "source": [
    "# 24. predict y_value\n",
    "y_train_predict = lm.predict(x_train)\n",
    "y_test_predict = lm.predict(x_test)\n",
    "\n",
    "from sklearn.metrics import r2_score\n",
    "\n",
    "# 25. print and compare r2 values of both train and test data\n",
    "print(r2_score(y_train, y_train_predict))\n",
    "print(r2_score(y_test, y_test_predict))\n",
    "\n",
    "# Note (r2): Statistical measure of how well regression line approximates actual data\n",
    "# Represents the proportion of variance for a DV that's explained by IV(s) in a regression model\n",
    "# https://www.rasgoml.com/feature-engineering-tutorials/how-to-calculate-r-2-with-scikit-learn\n",
    "# https://towardsdatascience.com/simple-linear-regression-model-using-python-machine-learning-eab7924d18b4\n",
    "\n",
    "# Bottom-line: r2 values on test data within 5% of r2 values on training data. Model looks good!"
   ]
  },
  {
   "cell_type": "markdown",
   "id": "c84c0589-4429-4f6f-a89b-8c83dc2fdd40",
   "metadata": {},
   "source": [
    "# Plot linear regression (using simple estimation)"
   ]
  },
  {
   "cell_type": "code",
   "execution_count": 78,
   "id": "477a32ea-fcaf-44be-af64-92115c8f81ba",
   "metadata": {},
   "outputs": [
    {
     "data": {
      "text/plain": [
       "<Axes: xlabel='TV', ylabel='Sales'>"
      ]
     },
     "execution_count": 78,
     "metadata": {},
     "output_type": "execute_result"
    },
    {
     "data": {
      "image/png": "[encoded data removed]",
      "text/plain": [
       "<Figure size 640x480 with 1 Axes>"
      ]
     },
     "metadata": {},
     "output_type": "display_data"
    }
   ],
   "source": [
    "# 26. Plot data and linear regression model fit.\n",
    "# Note: Goal of seaborn is to help find and emphasize patterns through quick and easy visualizations.\n",
    "# Ther are *MANY* ways to find relationships and determine patterns. Provided here are *some* ways of doing so.\n",
    "# regplot(): https://seaborn.pydata.org/generated/seaborn.regplot.html\n",
    "\n",
    "# Note: Seaborn is not itself a package for statistical analysis--for that, use scikit-learn, or statsmodels.\n",
    "# https://seaborn.pydata.org/tutorial/regression.html#regression-tutorial\n",
    "\n",
    "# Note: Regression lines indicate a linear relationship between DV(s) on y-axis and IV(s) on x-axis.\n",
    "sns.regplot(data=advertising_data, x='TV', y='Sales', ci=95, scatter_kws={'s':5}, line_kws={\"lw\":1, 'color':'orange'})\n",
    "\n",
    "# scatter_kws changes dot size (avoids overplotting and/or aesthetics). line_kws changes line color and width\n",
    "# https://stackoverflow.com/questions/53257382/what-do-scatter-kws-and-line-kws-do-in-seaborn-lmplot\n",
    "# https://eeob-biodata.github.io/BCB546X-python/05-seaborn-viz/\n",
    "\n",
    "# ci (confidence interval used for regression estimate--None recommended)\n",
    "# https://seaborn.pydata.org/generated/seaborn.lmplot.html\n",
    "\n",
    "# *However*, here, confidence interval of 95% used for demo purposes.\n",
    "# Note: Size of confidence interval for regression estimate--will be drawn using translucent bands around regression line.\n",
    "\n",
    "# Confidence interval: a range around a measurement that indicates the measurement's precision."
   ]
  },
  {
   "cell_type": "markdown",
   "id": "697bfcaf-4e4b-4b94-98c2-aa5b43788887",
   "metadata": {},
   "source": [
    "# Plot residuals using Seaborn"
   ]
  },
  {
   "cell_type": "code",
   "execution_count": 83,
   "id": "8045cdaa-cea6-4bc4-b8e7-4e8b91d0fb31",
   "metadata": {},
   "outputs": [
    {
     "data": {
      "text/plain": [
       "<Axes: xlabel='TV', ylabel='Sales'>"
      ]
     },
     "execution_count": 83,
     "metadata": {},
     "output_type": "execute_result"
    },
    {
     "data": {
      "image/png": "[encoded data removed]",
      "text/plain": [
       "<Figure size 640x480 with 1 Axes>"
      ]
     },
     "metadata": {},
     "output_type": "display_data"
    }
   ],
   "source": [
    "# 27. Residual plot: used to plot residual values after plotting linear regression model.\n",
    "# What is a residual plot? Helps to identify regression model fit.\n",
    "# Note: \"Residuals\" are simply differences between DV test values and DV predicted values.\n",
    "# Horizontal line indicates where predicted and actual values are the same.\n",
    "# Dots above the line indicate underestimating--that is, predicted sales too low for TV ads.\n",
    "# https://datogy.io/seaborn-residplot/\n",
    "\n",
    "# Lowess (aka \"Loess\") line stands for \"Locally weighted scatterplot smoothing.\"\n",
    "# https://www.statisticshowto.com/lowess-smoothing/\n",
    "# Creates smooth line to help better understand relationship between variables and trends.\n",
    "# line_kws: color lowess line.\n",
    "sns.residplot(data=advertising_data, x='TV', y='Sales', scatter_kws={'s':5}, lowess=True, line_kws={'color':'green'})"
   ]
  },
  {
   "cell_type": "code",
   "execution_count": null,
   "id": "8c737ff5-6ed7-498a-beb5-2a923ac28d5d",
   "metadata": {},
   "outputs": [],
   "source": []
  }
 ],
 "metadata": {
  "kernelspec": {
   "display_name": "Python 3 (ipykernel)",
   "language": "python",
   "name": "python3"
  },
  "language_info": {
   "codemirror_mode": {
    "name": "ipython",
    "version": 3
   },
   "file_extension": ".py",
   "mimetype": "text/x-python",
   "name": "python",
   "nbconvert_exporter": "python",
   "pygments_lexer": "ipython3",
   "version": "3.11.7"
  }
 },
 "nbformat": 4,
 "nbformat_minor": 5
}
