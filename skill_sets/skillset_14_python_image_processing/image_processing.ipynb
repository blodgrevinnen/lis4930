{
 "cells": [
  {
   "cell_type": "markdown",
   "id": "11993b32-22f3-46e7-af2a-10d9b2a8c011",
   "metadata": {},
   "source": [
    "# Python Image Processing\n",
    "\n",
    "**Developer:** Tanner Morlan\n",
    "\n",
    "**Course:** LIS4930\n",
    "\n",
    "**Semester:** Summer 2024\n",
    "\n",
    "**Program Requirements:**\n",
    "\n",
    "1. Get data\n",
    "2. Prepare data\n",
    "3. Display data\n",
    "4. **In each of the following examples, research functions/properties/options indicated below.**"
   ]
  },
  {
   "cell_type": "code",
   "execution_count": 1,
   "id": "9d2a4c27-af10-4e0e-9335-2b84152c7e1a",
   "metadata": {},
   "outputs": [
    {
     "ename": "ImportError",
     "evalue": "DLL load failed while importing cv2: The specified module could not be found.",
     "output_type": "error",
     "traceback": [
      "\u001b[1;31m---------------------------------------------------------------------------\u001b[0m",
      "\u001b[1;31mImportError\u001b[0m                               Traceback (most recent call last)",
      "Cell \u001b[1;32mIn[1], line 1\u001b[0m\n\u001b[1;32m----> 1\u001b[0m \u001b[38;5;28;01mimport\u001b[39;00m \u001b[38;5;21;01mcv2\u001b[39;00m \u001b[38;5;66;03m# image and video processing library (note: cv2 is module import name for opencv-python)\u001b[39;00m\n\u001b[0;32m      2\u001b[0m \u001b[38;5;28;01mimport\u001b[39;00m \u001b[38;5;21;01mnumpy\u001b[39;00m \u001b[38;5;28;01mas\u001b[39;00m \u001b[38;5;21;01mnp\u001b[39;00m \u001b[38;5;66;03m# all things \"numbers and PYthon\" (used here for its array functionality)\u001b[39;00m\n\u001b[0;32m      3\u001b[0m \u001b[38;5;28;01mimport\u001b[39;00m \u001b[38;5;21;01mmatplotlib\u001b[39;00m\u001b[38;5;21;01m.\u001b[39;00m\u001b[38;5;21;01mpyplot\u001b[39;00m \u001b[38;5;28;01mas\u001b[39;00m \u001b[38;5;21;01mplt\u001b[39;00m\n",
      "\u001b[1;31mImportError\u001b[0m: DLL load failed while importing cv2: The specified module could not be found."
     ]
    }
   ],
   "source": [
    "import cv2 # image and video processing library (note: cv2 is module import name for opencv-python)\n",
    "import numpy as np # all things \"numbers and PYthon\" (used here for its array functionality)\n",
    "import matplotlib.pyplot as plt # display plots, or frames from video or images\n",
    "\n",
    "# OpenC"
   ]
  },
  {
   "cell_type": "markdown",
   "id": "e7f3cd4b-773c-43bd-83f2-dc2944115007",
   "metadata": {},
   "source": [
    "# Basic OpenCV Commands\n",
    "\n",
    "1. Read image from file (**imread**)\n",
    "2. Display image in OpenCV window (**imshow**)\n",
    "3. Write image to file (**imwrite**)\n",
    "\n",
    "# Get image - imread()"
   ]
  },
  {
   "cell_type": "code",
   "execution_count": null,
   "id": "7a7882bb-7afa-42f5-a586-608f14569ba8",
   "metadata": {},
   "outputs": [],
   "source": [
    "# https://pythonprogramming.net/loading-images-python-opencv-tutorial/\n",
    "# https://docs.opencv.org/4.x/db/deb/tutorial_dispolay_image.html\n",
    "# https://note.nkmk.me/en/python-opencv-imread-imwrite/\n",
    "\n",
    "# place file in same directory as .ipynb file\n",
    "img = cv2.imread('watch.jpg')\n",
    "\n",
    "# img = cv2.imread('watch.jpg', cv2.IMREAD_UNCHANGED)\n",
    "\n",
    "# Note: 2nd argument optional, specifies one of three available formats:\n",
    "\n",
    "# IMREAD_COLOR: Loads image in BGR 8-bit format (default).\n",
    "# IMREAD_UNCHANGED: Loads image as is (including alpha channel, if present)\n",
    "# IMREAD_GRAYSCALE: Loads image as an intensity one (1).\n",
    "\n",
    "# check if image found\n",
    "if img is None:\n",
    "    print(\"Check file path!\")"
   ]
  },
  {
   "cell_type": "markdown",
   "id": "8454433c-0fb3-4f27-b511-d6ebfb2a8f27",
   "metadata": {},
   "source": [
    "# Get image info"
   ]
  },
  {
   "cell_type": "code",
   "execution_count": null,
   "id": "464e52ef-54ed-4e2a-8f91-d7d0c3ce4b78",
   "metadata": {},
   "outputs": [],
   "source": [
    "print(type(img))\n",
    "# <class 'numpy.ndarray'>\n",
    "\n",
    "print(img.shape)\n",
    "# (168, 300, 3)\n",
    "\n",
    "# Note: Difference between type and dtype:\n",
    "# https://stackoverflow.com/questions/27780878/python-confustion-between-types-and-dtypes\n",
    "print(img.dtype)\n",
    "# uint8"
   ]
  },
  {
   "cell_type": "code",
   "execution_count": null,
   "id": "96a4c37d-c816-4fce-87ce-800570e5f4b5",
   "metadata": {},
   "outputs": [],
   "source": [
    "# More info\n",
    "# https://www.tutorialkart.com/opencv/python/opencv-python-get-image-size/\n",
    "\n",
    "# image dimensions\n",
    "dimensions = img.shape\n",
    "\n",
    "# get image height, width, number of channels\n",
    "# Note: Number of Channels = 4 represent Alpha, Red, Green, and Blue channels.\n",
    "height = img.shape[0]\n",
    "width=img.shape[1]\n",
    "channels = img.shape[2]\n",
    "\n",
    "print('Image Dimension    : ', dimensions)\n",
    "print('Image Height       : ', height)\n",
    "print('Image Width        : ', width)\n",
    "print('Number of Channels : ', channels)"
   ]
  },
  {
   "cell_type": "markdown",
   "id": "a4e3cb34-e51d-4d63-9be4-555039ee07a0",
   "metadata": {},
   "source": [
    "# Show image - imshow()"
   ]
  },
  {
   "cell_type": "code",
   "execution_count": null,
   "id": "695034db-f21a-4588-9af3-d29ff44ab407",
   "metadata": {},
   "outputs": [],
   "source": [
    "# display inside of Jupyter Notebook cell\n",
    "# Note: Matplot lib expects img in RGB format but OpenCV provides it in BGR format!\n",
    "plt.imshow(img)\n",
    "plt.title('my BGR pic')\n",
    "plt.show()\n",
    "\n",
    "# can also display in separate window\n",
    "# cv2.imshow('my BGR pic', img)\n",
    "# cv2.waitKey(0)\n",
    "# cv2.destroyAllWindows()"
   ]
  },
  {
   "cell_type": "markdown",
   "id": "1a5eea9b-26ba-4281-8697-64b4e3765282",
   "metadata": {},
   "source": [
    "# Image Conversions"
   ]
  },
  {
   "cell_type": "code",
   "execution_count": null,
   "id": "5569d4ba-7b09-4054-8c19-4b4bf4a76032",
   "metadata": {},
   "outputs": [],
   "source": [
    "# OpenCV contains more than 150 color-space conversion functions\n",
    "# print all of them! Uncomment two lines below.\n",
    "\n",
    "# flags = [i for i in dir(cv2) if i.startswith('COLOR_')]\n",
    "# print(flags)\n",
    "\n",
    "# Note: HSV: hue range is [0, 179], saturation range is [0, 255], and value range is [0, 255].\n",
    "# Different software use different scales. When comparing OpenCV values with other software values, need to normalize these rangese!"
   ]
  },
  {
   "cell_type": "code",
   "execution_count": null,
   "id": "f6da38ed-97a6-40d5-9925-52f86777cde2",
   "metadata": {},
   "outputs": [],
   "source": [
    "# convert to RGB\n",
    "img_rgb = cv2.cvtColor(img, cv2.COLOR_BGR2RGB)\n",
    "\n",
    "# Or, view another conversion\n",
    "# img = cv2.cvtColor(img, cv2.COLOR_BGR2GRAY)\n",
    "\n",
    "plt.imshow(img_rgb)\n",
    "plt.title('my RGB pic')\n",
    "plt.show()"
   ]
  },
  {
   "cell_type": "markdown",
   "id": "d3d71806-0735-490e-af73-3e3a7adf0950",
   "metadata": {},
   "source": [
    "# Save image - imwrite()"
   ]
  },
  {
   "cell_type": "code",
   "execution_count": null,
   "id": "b87de580-fd87-46b3-b4c2-6d9877c52d4a",
   "metadata": {},
   "outputs": [],
   "source": [
    "# after manipulating images, save them!\n",
    "# Note: JPEG is lossy compression, even at highest quality (100)!\n",
    "# Save original image with no resolution loss, as PNG or BMP!\n",
    "cv2.imwrite('watch_new.png', img)"
   ]
  },
  {
   "cell_type": "markdown",
   "id": "0a889a9f-15ad-42ad-bce4-776302ec0105",
   "metadata": {},
   "source": [
    "# More Image Processing!"
   ]
  },
  {
   "cell_type": "code",
   "execution_count": null,
   "id": "a8df250c-dbaf-43a3-95e9-1494e6a02ea7",
   "metadata": {},
   "outputs": [],
   "source": [
    "# https://badriadhikari.github.io/dl-workshop-2022/an-image-is-simply-a-matrix.html\n",
    "myimg = cv2.imread('cat-grayscale.jpg')\n",
    "\n",
    "# Enlarging image: Use INTER_LINEAR or INTER_CUBIC interpolation\n",
    "# Shrinking image: Use INTER_AREA interpolation\n",
    "# Note: Cubic interpolation: Computationally more complex, that is, slower than linear interpolation.\n",
    "# However, quality of resulting image will be higher.\n",
    "# https://docs.opencv.org/3.4/da/d54/group__imgproc__transform.html#ga47a97309e9102f5f08231edc7e7529d\n",
    "\n",
    "resized = cv2.resize(myimg, (128, 128), interpolation = cv2.INTER_AREA) # Here, shrinking image.\n",
    "mynewimg = cv2.cvtColor(resized, cv2.COLOR_BGR2GRAY) # Returns Numpy array (2-dimensional array)!"
   ]
  },
  {
   "cell_type": "markdown",
   "id": "eb579ba1-7af7-452e-8443-9ccfaace95d5",
   "metadata": {},
   "source": [
    "# Get Image Info"
   ]
  },
  {
   "cell_type": "code",
   "execution_count": null,
   "id": "be96d6b0-e8a0-44b4-8c82-643d5f84fc2b",
   "metadata": {},
   "outputs": [],
   "source": [
    "# Note: Binary images and grayscale images are 2-dimensional arrays!\n",
    "# 1st dim = rows (height); 2nd dim cols (width)\n",
    "\n",
    "print(mynewimg.shape) # Here, both rows and cols have 128 elements\n",
    "\n",
    "print(type(mynewimg)) # type() function returns Numpy ndarray\n",
    "\n",
    "print(type(mynewimg.shape)) # However, when used with shape attribute, returns tuple of dimensions (2)\n",
    "\n",
    "# Here: height = 128; width = 128 (since it is grayscale there is *no* 3rd dimension!)\n",
    "# In a \"true-color\" image, 3rd dimension is a color plane, such as RGB (Red, Green, Blue), or HSV, or CMYK."
   ]
  },
  {
   "cell_type": "code",
   "execution_count": null,
   "id": "aa787be7-9a50-4536-bd0b-6ff2be7b7445",
   "metadata": {},
   "outputs": [],
   "source": [
    "# Display numpy array's contents\n",
    "print(mynewimg[:15, :15]) # returns 1st 15 rows and 1st 15 cols"
   ]
  },
  {
   "cell_type": "markdown",
   "id": "fedd7356-e492-4c23-84ad-91c05df33772",
   "metadata": {},
   "source": [
    "# Display image - imshow()"
   ]
  },
  {
   "cell_type": "code",
   "execution_count": null,
   "id": "5e8e0b77-007a-4e6f-9b7b-5f74c25f335d",
   "metadata": {},
   "outputs": [],
   "source": [
    "# Display numpy array as grascale image (set up colormapping)\n",
    "# https://matplotlib.org/stable/api/_as_gen/matplotlib.pyplot.imshow.html\n",
    "print(mynewimg.shape)\n",
    "plt.imshow(mynewimg, cmap='gray')\n",
    "plt.colorbar() # Note: Colorbars are visualizations of mapping from scalar values to colors\n",
    "plt.show()"
   ]
  },
  {
   "cell_type": "markdown",
   "id": "b81c2385-ef53-4bbf-a8f6-2a6f52561b7c",
   "metadata": {},
   "source": [
    "# Save Image Data - as text file"
   ]
  },
  {
   "cell_type": "code",
   "execution_count": null,
   "id": "bcbb6c14-f8dd-4132-9990-3676a0c6f3ba",
   "metadata": {},
   "outputs": [],
   "source": [
    "# Numpy savetxt() function: saves Numpy array to text file\n",
    "np.savetxt('mycat.csv', mynewimg, fmt='%.1f', delimiter = ',')"
   ]
  }
 ],
 "metadata": {
  "kernelspec": {
   "display_name": "Python 3 (ipykernel)",
   "language": "python",
   "name": "python3"
  },
  "language_info": {
   "codemirror_mode": {
    "name": "ipython",
    "version": 3
   },
   "file_extension": ".py",
   "mimetype": "text/x-python",
   "name": "python",
   "nbconvert_exporter": "python",
   "pygments_lexer": "ipython3",
   "version": "3.9.18"
  }
 },
 "nbformat": 4,
 "nbformat_minor": 5
}
